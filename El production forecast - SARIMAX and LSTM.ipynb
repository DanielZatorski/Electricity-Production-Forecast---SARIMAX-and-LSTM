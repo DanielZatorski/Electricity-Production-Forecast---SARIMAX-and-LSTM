{
 "cells": [
  {
   "cell_type": "markdown",
   "id": "5ca24710",
   "metadata": {},
   "source": [
    "# PROJECT LAYOUT"
   ]
  },
  {
   "cell_type": "markdown",
   "id": "c37aa03b",
   "metadata": {},
   "source": [
    "#### In this notebook, we aim to explore and implement two forecasting methods to predict future electricity production. To achieve this, we will evaluate and compare the performance of:\n",
    "\n",
    "- SARIMAX\n",
    "- LSTM\n",
    "\n"
   ]
  },
  {
   "cell_type": "code",
   "execution_count": 322,
   "id": "bfb6eab2",
   "metadata": {},
   "outputs": [],
   "source": [
    "import pandas as pd\n",
    "import numpy as np\n",
    "\n",
    "import matplotlib.pyplot as plt\n",
    "%matplotlib inline\n",
    "\n",
    "from statsmodels.tsa.statespace.sarimax import SARIMAX\n",
    "\n",
    "from statsmodels.graphics.tsaplots import plot_acf,plot_pacf # for determining (p,q) orders\n",
    "from statsmodels.tsa.seasonal import seasonal_decompose      # for ETS Plots\n",
    "from pmdarima import auto_arima                              # for determining ARIMA orders\n",
    "\n",
    "from prophet import Prophet\n",
    "from prophet.plot import plot_plotly\n",
    "\n",
    "import tensorflow as tf\n",
    "from tensorflow.keras.layers import Dense, LSTM\n",
    "from tensorflow.keras.models import Sequential\n",
    "from sklearn.preprocessing import MinMaxScaler\n",
    "from tensorflow.keras.callbacks import Callback\n",
    "from sklearn.metrics import mean_squared_error\n",
    "pd.options.mode.chained_assignment = None\n",
    "tf.random.set_seed(0)\n",
    "\n",
    "import plotly.graph_objects as go\n",
    "\n",
    "\n",
    "import warnings\n",
    "warnings.filterwarnings(\"ignore\")"
   ]
  },
  {
   "cell_type": "code",
   "execution_count": 323,
   "id": "53263ae4",
   "metadata": {},
   "outputs": [
    {
     "data": {
      "text/html": [
       "<div>\n",
       "<style scoped>\n",
       "    .dataframe tbody tr th:only-of-type {\n",
       "        vertical-align: middle;\n",
       "    }\n",
       "\n",
       "    .dataframe tbody tr th {\n",
       "        vertical-align: top;\n",
       "    }\n",
       "\n",
       "    .dataframe thead th {\n",
       "        text-align: right;\n",
       "    }\n",
       "</style>\n",
       "<table border=\"1\" class=\"dataframe\">\n",
       "  <thead>\n",
       "    <tr style=\"text-align: right;\">\n",
       "      <th></th>\n",
       "      <th>DATE</th>\n",
       "      <th>Value</th>\n",
       "    </tr>\n",
       "  </thead>\n",
       "  <tbody>\n",
       "    <tr>\n",
       "      <th>0</th>\n",
       "      <td>1985-01-01</td>\n",
       "      <td>72.5052</td>\n",
       "    </tr>\n",
       "    <tr>\n",
       "      <th>1</th>\n",
       "      <td>1985-02-01</td>\n",
       "      <td>70.6720</td>\n",
       "    </tr>\n",
       "    <tr>\n",
       "      <th>2</th>\n",
       "      <td>1985-03-01</td>\n",
       "      <td>62.4502</td>\n",
       "    </tr>\n",
       "    <tr>\n",
       "      <th>3</th>\n",
       "      <td>1985-04-01</td>\n",
       "      <td>57.4714</td>\n",
       "    </tr>\n",
       "    <tr>\n",
       "      <th>4</th>\n",
       "      <td>1985-05-01</td>\n",
       "      <td>55.3151</td>\n",
       "    </tr>\n",
       "  </tbody>\n",
       "</table>\n",
       "</div>"
      ],
      "text/plain": [
       "        DATE    Value\n",
       "0 1985-01-01  72.5052\n",
       "1 1985-02-01  70.6720\n",
       "2 1985-03-01  62.4502\n",
       "3 1985-04-01  57.4714\n",
       "4 1985-05-01  55.3151"
      ]
     },
     "execution_count": 323,
     "metadata": {},
     "output_type": "execute_result"
    }
   ],
   "source": [
    "df = pd.read_csv('Electric_Production.csv',parse_dates = [0])\n",
    "df.head()"
   ]
  },
  {
   "cell_type": "code",
   "execution_count": 324,
   "id": "7786ba5d",
   "metadata": {},
   "outputs": [],
   "source": [
    "new_columns = ['Date', 'Production']  # Replace with your desired column names\n",
    "\n",
    "df.columns = new_columns"
   ]
  },
  {
   "cell_type": "code",
   "execution_count": 325,
   "id": "c622629c",
   "metadata": {},
   "outputs": [
    {
     "data": {
      "text/html": [
       "<div>\n",
       "<style scoped>\n",
       "    .dataframe tbody tr th:only-of-type {\n",
       "        vertical-align: middle;\n",
       "    }\n",
       "\n",
       "    .dataframe tbody tr th {\n",
       "        vertical-align: top;\n",
       "    }\n",
       "\n",
       "    .dataframe thead th {\n",
       "        text-align: right;\n",
       "    }\n",
       "</style>\n",
       "<table border=\"1\" class=\"dataframe\">\n",
       "  <thead>\n",
       "    <tr style=\"text-align: right;\">\n",
       "      <th></th>\n",
       "      <th>Production</th>\n",
       "    </tr>\n",
       "    <tr>\n",
       "      <th>Date</th>\n",
       "      <th></th>\n",
       "    </tr>\n",
       "  </thead>\n",
       "  <tbody>\n",
       "    <tr>\n",
       "      <th>1985-01-01</th>\n",
       "      <td>72.5052</td>\n",
       "    </tr>\n",
       "    <tr>\n",
       "      <th>1985-02-01</th>\n",
       "      <td>70.6720</td>\n",
       "    </tr>\n",
       "    <tr>\n",
       "      <th>1985-03-01</th>\n",
       "      <td>62.4502</td>\n",
       "    </tr>\n",
       "    <tr>\n",
       "      <th>1985-04-01</th>\n",
       "      <td>57.4714</td>\n",
       "    </tr>\n",
       "    <tr>\n",
       "      <th>1985-05-01</th>\n",
       "      <td>55.3151</td>\n",
       "    </tr>\n",
       "  </tbody>\n",
       "</table>\n",
       "</div>"
      ],
      "text/plain": [
       "            Production\n",
       "Date                  \n",
       "1985-01-01     72.5052\n",
       "1985-02-01     70.6720\n",
       "1985-03-01     62.4502\n",
       "1985-04-01     57.4714\n",
       "1985-05-01     55.3151"
      ]
     },
     "execution_count": 325,
     "metadata": {},
     "output_type": "execute_result"
    }
   ],
   "source": [
    "# Set \"date\" to be the index\n",
    "df.set_index('Date',inplace=True)\n",
    "df.index.freq = 'MS'\n",
    "df.index = pd.to_datetime(df.index)\n",
    "\n",
    "df.head()"
   ]
  },
  {
   "cell_type": "code",
   "execution_count": 326,
   "id": "ca1d1ff5",
   "metadata": {},
   "outputs": [
    {
     "data": {
      "image/png": "[encoded data removed]",
      "text/plain": [
       "<Figure size 1200x600 with 1 Axes>"
      ]
     },
     "metadata": {},
     "output_type": "display_data"
    }
   ],
   "source": [
    "title = 'Electricity Production over Years'\n",
    "ylabel='Electricity [GWh]'\n",
    "xlabel=''\n",
    "\n",
    "ax = df['Production'].plot(figsize=(12,6),title=title)\n",
    "ax.autoscale(axis='x',tight=True)\n",
    "ax.set(xlabel=xlabel, ylabel=ylabel);"
   ]
  },
  {
   "cell_type": "markdown",
   "id": "977519f6",
   "metadata": {},
   "source": [
    "# Run an ETS Decomposition"
   ]
  },
  {
   "cell_type": "markdown",
   "id": "679050ba",
   "metadata": {},
   "source": [
    "We apply an additive model when it seems that the trend is more linear and the seasonality and trend components seem to be constant over time (e.g. every year we generate approx 75 GWh).\n",
    "A multiplicative model is more appropriate when we are increasing (or decreasing) at a non-linear rate (e.g. each year we double the energy)."
   ]
  },
  {
   "cell_type": "code",
   "execution_count": 327,
   "id": "045c22ae",
   "metadata": {},
   "outputs": [
    {
     "data": {
      "image/png": "[encoded data removed]",
      "text/plain": [
       "<Figure size 640x480 with 4 Axes>"
      ]
     },
     "metadata": {},
     "output_type": "display_data"
    }
   ],
   "source": [
    "result = seasonal_decompose(df['Production'], model = 'add')\n",
    "result.plot();"
   ]
  },
  {
   "cell_type": "markdown",
   "id": "80e8c63f",
   "metadata": {},
   "source": [
    "It can be seen that:\n",
    "\n",
    "- Trend is highly positive\n",
    "- Seasonality is showing that every year there is a situation that small spike is followed with bigger spike\n",
    "- Residuals are randomly distributed around zero, indicating that the model has captured the main patterns in the data"
   ]
  },
  {
   "cell_type": "markdown",
   "id": "cbab34f8",
   "metadata": {},
   "source": [
    "# Run pmdarima.auto_arima to obtain recommended order"
   ]
  },
  {
   "cell_type": "markdown",
   "id": "726812b0",
   "metadata": {},
   "source": [
    "For SARIMA Orders we set seasonal=True, because data is prooved to be seasonal from ETS decomposition. Then pass in an m value, which is the length of a seasonal period, meaning the number of data points in each period. For our case since its annual cycles its best to put 12 for 12 months.\n",
    "\n",
    "Below command calulates a best parameters fit for current dataset, eg. SARIMAX(1, 1, 2)x(1, 0, [1], 12)\n"
   ]
  },
  {
   "cell_type": "code",
   "execution_count": 328,
   "id": "862486bd",
   "metadata": {},
   "outputs": [
    {
     "data": {
      "text/html": [
       "<table class=\"simpletable\">\n",
       "<caption>SARIMAX Results</caption>\n",
       "<tr>\n",
       "  <th>Dep. Variable:</th>                   <td>y</td>                <th>  No. Observations:  </th>    <td>397</td>  \n",
       "</tr>\n",
       "<tr>\n",
       "  <th>Model:</th>           <td>SARIMAX(1, 1, 2)x(1, 0, [1], 12)</td> <th>  Log Likelihood     </th> <td>-926.400</td>\n",
       "</tr>\n",
       "<tr>\n",
       "  <th>Date:</th>                    <td>Thu, 25 Jul 2024</td>         <th>  AIC                </th> <td>1866.799</td>\n",
       "</tr>\n",
       "<tr>\n",
       "  <th>Time:</th>                        <td>14:54:09</td>             <th>  BIC                </th> <td>1894.669</td>\n",
       "</tr>\n",
       "<tr>\n",
       "  <th>Sample:</th>                     <td>01-01-1985</td>            <th>  HQIC               </th> <td>1877.840</td>\n",
       "</tr>\n",
       "<tr>\n",
       "  <th></th>                           <td>- 01-01-2018</td>           <th>                     </th>     <td> </td>   \n",
       "</tr>\n",
       "<tr>\n",
       "  <th>Covariance Type:</th>                <td>opg</td>               <th>                     </th>     <td> </td>   \n",
       "</tr>\n",
       "</table>\n",
       "<table class=\"simpletable\">\n",
       "<tr>\n",
       "      <td></td>         <th>coef</th>     <th>std err</th>      <th>z</th>      <th>P>|z|</th>  <th>[0.025</th>    <th>0.975]</th>  \n",
       "</tr>\n",
       "<tr>\n",
       "  <th>intercept</th> <td>    0.0005</td> <td>    0.001</td> <td>    0.441</td> <td> 0.659</td> <td>   -0.002</td> <td>    0.003</td>\n",
       "</tr>\n",
       "<tr>\n",
       "  <th>ar.L1</th>     <td>    0.3465</td> <td>    0.089</td> <td>    3.882</td> <td> 0.000</td> <td>    0.172</td> <td>    0.521</td>\n",
       "</tr>\n",
       "<tr>\n",
       "  <th>ma.L1</th>     <td>   -0.7126</td> <td>    0.087</td> <td>   -8.171</td> <td> 0.000</td> <td>   -0.884</td> <td>   -0.542</td>\n",
       "</tr>\n",
       "<tr>\n",
       "  <th>ma.L2</th>     <td>   -0.2317</td> <td>    0.078</td> <td>   -2.984</td> <td> 0.003</td> <td>   -0.384</td> <td>   -0.080</td>\n",
       "</tr>\n",
       "<tr>\n",
       "  <th>ar.S.L12</th>  <td>    0.9921</td> <td>    0.005</td> <td>  187.642</td> <td> 0.000</td> <td>    0.982</td> <td>    1.002</td>\n",
       "</tr>\n",
       "<tr>\n",
       "  <th>ma.S.L12</th>  <td>   -0.7337</td> <td>    0.042</td> <td>  -17.437</td> <td> 0.000</td> <td>   -0.816</td> <td>   -0.651</td>\n",
       "</tr>\n",
       "<tr>\n",
       "  <th>sigma2</th>    <td>    5.8660</td> <td>    0.338</td> <td>   17.375</td> <td> 0.000</td> <td>    5.204</td> <td>    6.528</td>\n",
       "</tr>\n",
       "</table>\n",
       "<table class=\"simpletable\">\n",
       "<tr>\n",
       "  <th>Ljung-Box (L1) (Q):</th>     <td>0.04</td> <th>  Jarque-Bera (JB):  </th> <td>25.97</td>\n",
       "</tr>\n",
       "<tr>\n",
       "  <th>Prob(Q):</th>                <td>0.84</td> <th>  Prob(JB):          </th> <td>0.00</td> \n",
       "</tr>\n",
       "<tr>\n",
       "  <th>Heteroskedasticity (H):</th> <td>2.92</td> <th>  Skew:              </th> <td>0.02</td> \n",
       "</tr>\n",
       "<tr>\n",
       "  <th>Prob(H) (two-sided):</th>    <td>0.00</td> <th>  Kurtosis:          </th> <td>4.25</td> \n",
       "</tr>\n",
       "</table><br/><br/>Warnings:<br/>[1] Covariance matrix calculated using the outer product of gradients (complex-step)."
      ],
      "text/latex": [
       "\\begin{center}\n",
       "\\begin{tabular}{lclc}\n",
       "\\toprule\n",
       "\\textbf{Dep. Variable:}          &                y                 & \\textbf{  No. Observations:  } &    397      \\\\\n",
       "\\textbf{Model:}                  & SARIMAX(1, 1, 2)x(1, 0, [1], 12) & \\textbf{  Log Likelihood     } &  -926.400   \\\\\n",
       "\\textbf{Date:}                   &         Thu, 25 Jul 2024         & \\textbf{  AIC                } &  1866.799   \\\\\n",
       "\\textbf{Time:}                   &             14:54:09             & \\textbf{  BIC                } &  1894.669   \\\\\n",
       "\\textbf{Sample:}                 &            01-01-1985            & \\textbf{  HQIC               } &  1877.840   \\\\\n",
       "\\textbf{}                        &           - 01-01-2018           & \\textbf{                     } &             \\\\\n",
       "\\textbf{Covariance Type:}        &               opg                & \\textbf{                     } &             \\\\\n",
       "\\bottomrule\n",
       "\\end{tabular}\n",
       "\\begin{tabular}{lcccccc}\n",
       "                   & \\textbf{coef} & \\textbf{std err} & \\textbf{z} & \\textbf{P$> |$z$|$} & \\textbf{[0.025} & \\textbf{0.975]}  \\\\\n",
       "\\midrule\n",
       "\\textbf{intercept} &       0.0005  &        0.001     &     0.441  &         0.659        &       -0.002    &        0.003     \\\\\n",
       "\\textbf{ar.L1}     &       0.3465  &        0.089     &     3.882  &         0.000        &        0.172    &        0.521     \\\\\n",
       "\\textbf{ma.L1}     &      -0.7126  &        0.087     &    -8.171  &         0.000        &       -0.884    &       -0.542     \\\\\n",
       "\\textbf{ma.L2}     &      -0.2317  &        0.078     &    -2.984  &         0.003        &       -0.384    &       -0.080     \\\\\n",
       "\\textbf{ar.S.L12}  &       0.9921  &        0.005     &   187.642  &         0.000        &        0.982    &        1.002     \\\\\n",
       "\\textbf{ma.S.L12}  &      -0.7337  &        0.042     &   -17.437  &         0.000        &       -0.816    &       -0.651     \\\\\n",
       "\\textbf{sigma2}    &       5.8660  &        0.338     &    17.375  &         0.000        &        5.204    &        6.528     \\\\\n",
       "\\bottomrule\n",
       "\\end{tabular}\n",
       "\\begin{tabular}{lclc}\n",
       "\\textbf{Ljung-Box (L1) (Q):}     & 0.04 & \\textbf{  Jarque-Bera (JB):  } & 25.97  \\\\\n",
       "\\textbf{Prob(Q):}                & 0.84 & \\textbf{  Prob(JB):          } &  0.00  \\\\\n",
       "\\textbf{Heteroskedasticity (H):} & 2.92 & \\textbf{  Skew:              } &  0.02  \\\\\n",
       "\\textbf{Prob(H) (two-sided):}    & 0.00 & \\textbf{  Kurtosis:          } &  4.25  \\\\\n",
       "\\bottomrule\n",
       "\\end{tabular}\n",
       "%\\caption{SARIMAX Results}\n",
       "\\end{center}\n",
       "\n",
       "Warnings: \\newline\n",
       " [1] Covariance matrix calculated using the outer product of gradients (complex-step)."
      ],
      "text/plain": [
       "<class 'statsmodels.iolib.summary.Summary'>\n",
       "\"\"\"\n",
       "                                      SARIMAX Results                                       \n",
       "============================================================================================\n",
       "Dep. Variable:                                    y   No. Observations:                  397\n",
       "Model:             SARIMAX(1, 1, 2)x(1, 0, [1], 12)   Log Likelihood                -926.400\n",
       "Date:                              Thu, 25 Jul 2024   AIC                           1866.799\n",
       "Time:                                      14:54:09   BIC                           1894.669\n",
       "Sample:                                  01-01-1985   HQIC                          1877.840\n",
       "                                       - 01-01-2018                                         \n",
       "Covariance Type:                                opg                                         \n",
       "==============================================================================\n",
       "                 coef    std err          z      P>|z|      [0.025      0.975]\n",
       "------------------------------------------------------------------------------\n",
       "intercept      0.0005      0.001      0.441      0.659      -0.002       0.003\n",
       "ar.L1          0.3465      0.089      3.882      0.000       0.172       0.521\n",
       "ma.L1         -0.7126      0.087     -8.171      0.000      -0.884      -0.542\n",
       "ma.L2         -0.2317      0.078     -2.984      0.003      -0.384      -0.080\n",
       "ar.S.L12       0.9921      0.005    187.642      0.000       0.982       1.002\n",
       "ma.S.L12      -0.7337      0.042    -17.437      0.000      -0.816      -0.651\n",
       "sigma2         5.8660      0.338     17.375      0.000       5.204       6.528\n",
       "===================================================================================\n",
       "Ljung-Box (L1) (Q):                   0.04   Jarque-Bera (JB):                25.97\n",
       "Prob(Q):                              0.84   Prob(JB):                         0.00\n",
       "Heteroskedasticity (H):               2.92   Skew:                             0.02\n",
       "Prob(H) (two-sided):                  0.00   Kurtosis:                         4.25\n",
       "===================================================================================\n",
       "\n",
       "Warnings:\n",
       "[1] Covariance matrix calculated using the outer product of gradients (complex-step).\n",
       "\"\"\""
      ]
     },
     "execution_count": 328,
     "metadata": {},
     "output_type": "execute_result"
    }
   ],
   "source": [
    "auto_arima(df['Production'],seasonal=True,m=12).summary()"
   ]
  },
  {
   "cell_type": "markdown",
   "id": "c31fab13",
   "metadata": {},
   "source": [
    "# Splitting the data into train/test set"
   ]
  },
  {
   "cell_type": "code",
   "execution_count": 329,
   "id": "b3160b40",
   "metadata": {},
   "outputs": [
    {
     "name": "stdout",
     "output_type": "stream",
     "text": [
      "397\n"
     ]
    }
   ],
   "source": [
    "print(len(df))"
   ]
  },
  {
   "cell_type": "code",
   "execution_count": 330,
   "id": "4bbf0e27",
   "metadata": {},
   "outputs": [],
   "source": [
    "\n",
    "A = int(len(df)*0.8) #picking 80% of data for the training purpose, and remaning for testing\n",
    "\n",
    "train = df[:A] # 80% of dataset\n",
    "test = df[A:] # 20% of dataset"
   ]
  },
  {
   "cell_type": "code",
   "execution_count": null,
   "id": "55106782",
   "metadata": {},
   "outputs": [],
   "source": []
  },
  {
   "cell_type": "markdown",
   "id": "bd4676e2",
   "metadata": {},
   "source": [
    "# Fit a SARIMA model"
   ]
  },
  {
   "cell_type": "code",
   "execution_count": 331,
   "id": "abc2949a",
   "metadata": {},
   "outputs": [
    {
     "data": {
      "text/html": [
       "<table class=\"simpletable\">\n",
       "<caption>SARIMAX Results</caption>\n",
       "<tr>\n",
       "  <th>Dep. Variable:</th>              <td>Production</td>            <th>  No. Observations:  </th>    <td>317</td>  \n",
       "</tr>\n",
       "<tr>\n",
       "  <th>Model:</th>           <td>SARIMAX(1, 1, 2)x(1, 0, [1], 12)</td> <th>  Log Likelihood     </th> <td>-711.112</td>\n",
       "</tr>\n",
       "<tr>\n",
       "  <th>Date:</th>                    <td>Thu, 25 Jul 2024</td>         <th>  AIC                </th> <td>1434.224</td>\n",
       "</tr>\n",
       "<tr>\n",
       "  <th>Time:</th>                        <td>14:54:10</td>             <th>  BIC                </th> <td>1456.759</td>\n",
       "</tr>\n",
       "<tr>\n",
       "  <th>Sample:</th>                     <td>01-01-1985</td>            <th>  HQIC               </th> <td>1443.227</td>\n",
       "</tr>\n",
       "<tr>\n",
       "  <th></th>                           <td>- 05-01-2011</td>           <th>                     </th>     <td> </td>   \n",
       "</tr>\n",
       "<tr>\n",
       "  <th>Covariance Type:</th>                <td>opg</td>               <th>                     </th>     <td> </td>   \n",
       "</tr>\n",
       "</table>\n",
       "<table class=\"simpletable\">\n",
       "<tr>\n",
       "      <td></td>        <th>coef</th>     <th>std err</th>      <th>z</th>      <th>P>|z|</th>  <th>[0.025</th>    <th>0.975]</th>  \n",
       "</tr>\n",
       "<tr>\n",
       "  <th>ar.L1</th>    <td>    0.2719</td> <td>    0.116</td> <td>    2.335</td> <td> 0.020</td> <td>    0.044</td> <td>    0.500</td>\n",
       "</tr>\n",
       "<tr>\n",
       "  <th>ma.L1</th>    <td>   -0.6441</td> <td>    0.113</td> <td>   -5.683</td> <td> 0.000</td> <td>   -0.866</td> <td>   -0.422</td>\n",
       "</tr>\n",
       "<tr>\n",
       "  <th>ma.L2</th>    <td>   -0.2823</td> <td>    0.099</td> <td>   -2.854</td> <td> 0.004</td> <td>   -0.476</td> <td>   -0.088</td>\n",
       "</tr>\n",
       "<tr>\n",
       "  <th>ar.S.L12</th> <td>    0.9947</td> <td>    0.004</td> <td>  241.996</td> <td> 0.000</td> <td>    0.987</td> <td>    1.003</td>\n",
       "</tr>\n",
       "<tr>\n",
       "  <th>ma.S.L12</th> <td>   -0.7174</td> <td>    0.049</td> <td>  -14.781</td> <td> 0.000</td> <td>   -0.813</td> <td>   -0.622</td>\n",
       "</tr>\n",
       "<tr>\n",
       "  <th>sigma2</th>   <td>    4.7330</td> <td>    0.291</td> <td>   16.243</td> <td> 0.000</td> <td>    4.162</td> <td>    5.304</td>\n",
       "</tr>\n",
       "</table>\n",
       "<table class=\"simpletable\">\n",
       "<tr>\n",
       "  <th>Ljung-Box (L1) (Q):</th>     <td>0.01</td> <th>  Jarque-Bera (JB):  </th> <td>43.26</td>\n",
       "</tr>\n",
       "<tr>\n",
       "  <th>Prob(Q):</th>                <td>0.90</td> <th>  Prob(JB):          </th> <td>0.00</td> \n",
       "</tr>\n",
       "<tr>\n",
       "  <th>Heteroskedasticity (H):</th> <td>2.60</td> <th>  Skew:              </th> <td>-0.23</td>\n",
       "</tr>\n",
       "<tr>\n",
       "  <th>Prob(H) (two-sided):</th>    <td>0.00</td> <th>  Kurtosis:          </th> <td>4.76</td> \n",
       "</tr>\n",
       "</table><br/><br/>Warnings:<br/>[1] Covariance matrix calculated using the outer product of gradients (complex-step)."
      ],
      "text/latex": [
       "\\begin{center}\n",
       "\\begin{tabular}{lclc}\n",
       "\\toprule\n",
       "\\textbf{Dep. Variable:}          &            Production            & \\textbf{  No. Observations:  } &    317      \\\\\n",
       "\\textbf{Model:}                  & SARIMAX(1, 1, 2)x(1, 0, [1], 12) & \\textbf{  Log Likelihood     } &  -711.112   \\\\\n",
       "\\textbf{Date:}                   &         Thu, 25 Jul 2024         & \\textbf{  AIC                } &  1434.224   \\\\\n",
       "\\textbf{Time:}                   &             14:54:10             & \\textbf{  BIC                } &  1456.759   \\\\\n",
       "\\textbf{Sample:}                 &            01-01-1985            & \\textbf{  HQIC               } &  1443.227   \\\\\n",
       "\\textbf{}                        &           - 05-01-2011           & \\textbf{                     } &             \\\\\n",
       "\\textbf{Covariance Type:}        &               opg                & \\textbf{                     } &             \\\\\n",
       "\\bottomrule\n",
       "\\end{tabular}\n",
       "\\begin{tabular}{lcccccc}\n",
       "                  & \\textbf{coef} & \\textbf{std err} & \\textbf{z} & \\textbf{P$> |$z$|$} & \\textbf{[0.025} & \\textbf{0.975]}  \\\\\n",
       "\\midrule\n",
       "\\textbf{ar.L1}    &       0.2719  &        0.116     &     2.335  &         0.020        &        0.044    &        0.500     \\\\\n",
       "\\textbf{ma.L1}    &      -0.6441  &        0.113     &    -5.683  &         0.000        &       -0.866    &       -0.422     \\\\\n",
       "\\textbf{ma.L2}    &      -0.2823  &        0.099     &    -2.854  &         0.004        &       -0.476    &       -0.088     \\\\\n",
       "\\textbf{ar.S.L12} &       0.9947  &        0.004     &   241.996  &         0.000        &        0.987    &        1.003     \\\\\n",
       "\\textbf{ma.S.L12} &      -0.7174  &        0.049     &   -14.781  &         0.000        &       -0.813    &       -0.622     \\\\\n",
       "\\textbf{sigma2}   &       4.7330  &        0.291     &    16.243  &         0.000        &        4.162    &        5.304     \\\\\n",
       "\\bottomrule\n",
       "\\end{tabular}\n",
       "\\begin{tabular}{lclc}\n",
       "\\textbf{Ljung-Box (L1) (Q):}     & 0.01 & \\textbf{  Jarque-Bera (JB):  } & 43.26  \\\\\n",
       "\\textbf{Prob(Q):}                & 0.90 & \\textbf{  Prob(JB):          } &  0.00  \\\\\n",
       "\\textbf{Heteroskedasticity (H):} & 2.60 & \\textbf{  Skew:              } & -0.23  \\\\\n",
       "\\textbf{Prob(H) (two-sided):}    & 0.00 & \\textbf{  Kurtosis:          } &  4.76  \\\\\n",
       "\\bottomrule\n",
       "\\end{tabular}\n",
       "%\\caption{SARIMAX Results}\n",
       "\\end{center}\n",
       "\n",
       "Warnings: \\newline\n",
       " [1] Covariance matrix calculated using the outer product of gradients (complex-step)."
      ],
      "text/plain": [
       "<class 'statsmodels.iolib.summary.Summary'>\n",
       "\"\"\"\n",
       "                                      SARIMAX Results                                       \n",
       "============================================================================================\n",
       "Dep. Variable:                           Production   No. Observations:                  317\n",
       "Model:             SARIMAX(1, 1, 2)x(1, 0, [1], 12)   Log Likelihood                -711.112\n",
       "Date:                              Thu, 25 Jul 2024   AIC                           1434.224\n",
       "Time:                                      14:54:10   BIC                           1456.759\n",
       "Sample:                                  01-01-1985   HQIC                          1443.227\n",
       "                                       - 05-01-2011                                         \n",
       "Covariance Type:                                opg                                         \n",
       "==============================================================================\n",
       "                 coef    std err          z      P>|z|      [0.025      0.975]\n",
       "------------------------------------------------------------------------------\n",
       "ar.L1          0.2719      0.116      2.335      0.020       0.044       0.500\n",
       "ma.L1         -0.6441      0.113     -5.683      0.000      -0.866      -0.422\n",
       "ma.L2         -0.2823      0.099     -2.854      0.004      -0.476      -0.088\n",
       "ar.S.L12       0.9947      0.004    241.996      0.000       0.987       1.003\n",
       "ma.S.L12      -0.7174      0.049    -14.781      0.000      -0.813      -0.622\n",
       "sigma2         4.7330      0.291     16.243      0.000       4.162       5.304\n",
       "===================================================================================\n",
       "Ljung-Box (L1) (Q):                   0.01   Jarque-Bera (JB):                43.26\n",
       "Prob(Q):                              0.90   Prob(JB):                         0.00\n",
       "Heteroskedasticity (H):               2.60   Skew:                            -0.23\n",
       "Prob(H) (two-sided):                  0.00   Kurtosis:                         4.76\n",
       "===================================================================================\n",
       "\n",
       "Warnings:\n",
       "[1] Covariance matrix calculated using the outer product of gradients (complex-step).\n",
       "\"\"\""
      ]
     },
     "execution_count": 331,
     "metadata": {},
     "output_type": "execute_result"
    }
   ],
   "source": [
    "model = SARIMAX(train['Production'],order=(1,1,2),seasonal_order=(1,0,1,12))\n",
    "\n",
    "result = model.fit()\n",
    "\n",
    "result.summary()"
   ]
  },
  {
   "cell_type": "code",
   "execution_count": 332,
   "id": "5436e0cc",
   "metadata": {},
   "outputs": [],
   "source": [
    "# Extract model parameters\n",
    "model_order = result.model.order\n",
    "seasonal_order = result.model.seasonal_order\n",
    "model_info = f\"SARIMAX(order={model_order}, seasonal_order={seasonal_order})\""
   ]
  },
  {
   "cell_type": "code",
   "execution_count": 333,
   "id": "34b0d0aa",
   "metadata": {},
   "outputs": [],
   "source": [
    "# Obtain predicted values\n",
    "start=len(train)\n",
    "end=len(train)+len(test)-1 # index position corresponding to the end of the testing set. It ensures that predictions cover the entire length of the test period\n",
    "predictions = result.predict(start=start, end=end, dynamic=False, typ='levels').rename(model_info)"
   ]
  },
  {
   "cell_type": "markdown",
   "id": "24b39c9e",
   "metadata": {},
   "source": [
    "dynamic=\n",
    "\n",
    "False: (Static Forecasting) Predictions use the actual past values up to the forecast point and do not incorporate forecasted values as inputs for future forecasts\n",
    "\n",
    "True: (Dynamic Forecasting) Predictions use forecasted values as inputs for future forecasts, which means errors in the forecast can propagate\n",
    "\n",
    "Passing <tt>typ='levels'</tt> predicts the levels of the original endogenous variables. If we'd used the default <tt>typ='linear'</tt> we would have seen linear predictions in terms of the differenced endogenous variables.\n",
    "\n",
    "For more information on these arguments visit https://www.statsmodels.org/stable/generated/statsmodels.tsa.arima_model.ARIMAResults.predict.html"
   ]
  },
  {
   "cell_type": "code",
   "execution_count": 334,
   "id": "9c839ae5",
   "metadata": {},
   "outputs": [
    {
     "name": "stdout",
     "output_type": "stream",
     "text": [
      "predicted=101.8173314, expected=102.8204\n",
      "predicted=110.1385352, expected=114.7068\n",
      "predicted=111.1068319, expected=113.5958\n",
      "predicted=99.9208718 , expected=99.4712\n",
      "predicted=92.15478541, expected=90.3566\n",
      "predicted=94.2154539 , expected=93.8095\n",
      "predicted=111.5111917, expected=107.3312\n",
      "predicted=118.0056118, expected=111.9646\n",
      "predicted=109.2301191, expected=103.3679\n",
      "predicted=100.9082941, expected=93.5772\n",
      "predicted=90.98823535, expected=87.5566\n",
      "predicted=92.3356643 , expected=92.7603\n",
      "predicted=103.2924513, expected=101.14\n",
      "predicted=111.0456539, expected=113.0357\n",
      "predicted=111.8663664, expected=109.8601\n",
      "predicted=100.7009824, expected=96.7431\n",
      "predicted=92.96554111, expected=90.3805\n",
      "predicted=95.01241965, expected=94.3417\n",
      "predicted=112.2156732, expected=105.2722\n",
      "predicted=118.6754469, expected=115.501\n",
      "predicted=109.946426 , expected=106.734\n",
      "predicted=101.6687094, expected=102.9948\n",
      "predicted=91.8012445 , expected=91.0092\n",
      "predicted=93.14152796, expected=90.9634\n",
      "predicted=104.0402196, expected=100.6957\n",
      "predicted=111.752313 , expected=110.148\n",
      "predicted=112.5686739, expected=108.1756\n",
      "predicted=101.4624911, expected=99.2809\n",
      "predicted=93.7680646 , expected=91.7871\n",
      "predicted=95.80409017, expected=97.2853\n",
      "predicted=112.9161286, expected=113.4732\n",
      "predicted=119.3416512, expected=124.2549\n",
      "predicted=110.6589134, expected=112.8811\n",
      "predicted=102.4250869, expected=104.7631\n",
      "predicted=92.60994133, expected=90.2867\n",
      "predicted=93.94311833, expected=92.134\n",
      "predicted=104.7840229, expected=101.878\n",
      "predicted=112.4552252, expected=108.5497\n",
      "predicted=113.2672576, expected=108.194\n",
      "predicted=102.219962 , expected=100.4172\n",
      "predicted=94.56633295, expected=92.3837\n",
      "predicted=96.5915631 , expected=99.7033\n",
      "predicted=113.61287  , expected=109.3477\n",
      "predicted=120.0043232, expected=120.2696\n",
      "predicted=111.3676231, expected=116.3788\n",
      "predicted=103.177454 , expected=104.4706\n",
      "predicted=93.41435028, expected=89.7461\n",
      "predicted=94.7404585 , expected=91.093\n",
      "predicted=105.5238824, expected=102.6495\n",
      "predicted=113.1544104, expected=111.6354\n",
      "predicted=113.9621372, expected=110.5925\n",
      "predicted=102.9734167, expected=101.9204\n",
      "predicted=95.36036871, expected=91.5959\n",
      "predicted=97.37486068, expected=93.0628\n",
      "predicted=114.3059172, expected=103.2203\n",
      "predicted=120.6634816, expected=117.0837\n",
      "predicted=112.072575 , expected=106.6688\n",
      "predicted=103.9258318, expected=95.3548\n",
      "predicted=94.21449409, expected=89.3254\n",
      "predicted=95.53357102, expected=90.7369\n",
      "predicted=106.259819 , expected=104.0375\n",
      "predicted=113.8498884, expected=114.5397\n",
      "predicted=114.6533325, expected=115.5159\n",
      "predicted=103.7228764, expected=102.7637\n",
      "predicted=96.15019434, expected=91.4867\n",
      "predicted=98.15400507, expected=92.89\n",
      "predicted=114.9952897, expected=112.7694\n",
      "predicted=121.319145 , expected=114.8505\n",
      "predicted=112.7737891, expected=99.4901\n",
      "predicted=104.6702416, expected=101.0396\n",
      "predicted=95.01039538, expected=88.353\n",
      "predicted=96.32247829, expected=92.0805\n",
      "predicted=106.9918535, expected=102.1532\n",
      "predicted=114.5416789, expected=112.1538\n",
      "predicted=115.340863 , expected=108.9312\n",
      "predicted=104.4683623, expected=98.6154\n",
      "predicted=96.93583215, expected=93.6137\n",
      "predicted=98.92901827, expected=97.3359\n",
      "predicted=115.681007 , expected=114.7212\n",
      "predicted=121.9713319, expected=129.4048\n"
     ]
    }
   ],
   "source": [
    "# Compare predictions to expected values\n",
    "for i in range(len(predictions)):\n",
    "    print(f\"predicted={predictions[i]:<11.10}, expected={test['Production'][i]}\")"
   ]
  },
  {
   "cell_type": "code",
   "execution_count": 335,
   "id": "133c8f4f",
   "metadata": {},
   "outputs": [
    {
     "data": {
      "image/png": "[encoded data removed]",
      "text/plain": [
       "<Figure size 1200x600 with 1 Axes>"
      ]
     },
     "metadata": {},
     "output_type": "display_data"
    }
   ],
   "source": [
    "# Plot predictions against known values\n",
    "title = 'Electricity Production over Years'\n",
    "ylabel='Electricity [GWh]'\n",
    "xlabel='' # we don't really need a label here\n",
    "\n",
    "ax = test['Production'].plot(legend=True,figsize=(12,6),title=title)\n",
    "predictions.plot(legend=True)\n",
    "ax.autoscale(axis='x',tight=True)\n",
    "ax.set(xlabel=xlabel, ylabel=ylabel);\n"
   ]
  },
  {
   "cell_type": "markdown",
   "id": "076a172b",
   "metadata": {},
   "source": [
    "# Evaluate the Model"
   ]
  },
  {
   "cell_type": "code",
   "execution_count": 336,
   "id": "b699d2fa",
   "metadata": {},
   "outputs": [],
   "source": [
    "\n",
    "mse = mean_squared_error(test['Production'], predictions)"
   ]
  },
  {
   "cell_type": "code",
   "execution_count": 337,
   "id": "62798786",
   "metadata": {},
   "outputs": [
    {
     "name": "stdout",
     "output_type": "stream",
     "text": [
      "SARIMAX(order=(1, 1, 2), seasonal_order=(1, 0, 1, 12)) MSE Error: 17.42\n"
     ]
    }
   ],
   "source": [
    "print(model_info + f' MSE Error: {round(mse,2)}')\n"
   ]
  },
  {
   "cell_type": "code",
   "execution_count": 338,
   "id": "3c7469c9",
   "metadata": {},
   "outputs": [],
   "source": [
    "from statsmodels.tools.eval_measures import rmse\n",
    "\n",
    "rmse = rmse(test['Production'], predictions)"
   ]
  },
  {
   "cell_type": "code",
   "execution_count": 339,
   "id": "17d59cc5",
   "metadata": {},
   "outputs": [
    {
     "name": "stdout",
     "output_type": "stream",
     "text": [
      "SARIMAX(order=(1, 1, 2), seasonal_order=(1, 0, 1, 12)) RMSE Error: 4.17\n",
      "On average, this model predictions are off by about 4.17 GWh\n"
     ]
    }
   ],
   "source": [
    "print(model_info + f' RMSE Error: {round(rmse,2)}')\n",
    "print(\"On average, this model predictions are off by about\", round(rmse, 2), \"GWh\")"
   ]
  },
  {
   "cell_type": "code",
   "execution_count": null,
   "id": "07ac2921",
   "metadata": {},
   "outputs": [],
   "source": []
  },
  {
   "cell_type": "markdown",
   "id": "f7a41628",
   "metadata": {},
   "source": [
    "# Perform Forecast"
   ]
  },
  {
   "cell_type": "markdown",
   "id": "d5de5620",
   "metadata": {},
   "source": [
    "To Plot the forecast we are using the result from fitting the model. Prediction is made for the start and end. At the end we add 120 rows correspodning to 12 years"
   ]
  },
  {
   "cell_type": "code",
   "execution_count": 340,
   "id": "550f9ecd",
   "metadata": {},
   "outputs": [],
   "source": [
    "#model = SARIMAX(df['Production'],order=(1,1,2),seasonal_order=(1,0,1,12))\n",
    "#result = model.fit()\n",
    "fcast = result.predict(start=len(df),end=len(df)+36,typ='levels').rename(model_info + ' Forecast')\n"
   ]
  },
  {
   "cell_type": "markdown",
   "id": "6b0b4442",
   "metadata": {},
   "source": [
    "Plotting the forecast"
   ]
  },
  {
   "cell_type": "code",
   "execution_count": 341,
   "id": "801fd122",
   "metadata": {},
   "outputs": [
    {
     "data": {
      "text/plain": [
       "<Axes: xlabel='Date'>"
      ]
     },
     "execution_count": 341,
     "metadata": {},
     "output_type": "execute_result"
    },
    {
     "data": {
      "image/png": "[encoded data removed]",
      "text/plain": [
       "<Figure size 1200x800 with 1 Axes>"
      ]
     },
     "metadata": {},
     "output_type": "display_data"
    }
   ],
   "source": [
    "df['Production'].plot(legend=True, figsize=(12,8))\n",
    "fcast.plot(legend=True)"
   ]
  },
  {
   "cell_type": "code",
   "execution_count": null,
   "id": "1aa634d9",
   "metadata": {},
   "outputs": [],
   "source": []
  },
  {
   "cell_type": "markdown",
   "id": "1e2eeb50",
   "metadata": {},
   "source": [
    "# LSTM"
   ]
  },
  {
   "cell_type": "code",
   "execution_count": 231,
   "id": "a434d0e2",
   "metadata": {},
   "outputs": [],
   "source": [
    "df_2 = df.copy()"
   ]
  },
  {
   "cell_type": "code",
   "execution_count": 232,
   "id": "49988bda",
   "metadata": {},
   "outputs": [
    {
     "name": "stdout",
     "output_type": "stream",
     "text": [
      "397\n"
     ]
    }
   ],
   "source": [
    "print(len(df_2))"
   ]
  },
  {
   "cell_type": "code",
   "execution_count": 233,
   "id": "6c9297ed",
   "metadata": {},
   "outputs": [],
   "source": [
    "y = df_2.values.reshape(-1, 1)"
   ]
  },
  {
   "cell_type": "code",
   "execution_count": 234,
   "id": "95ee7277",
   "metadata": {},
   "outputs": [],
   "source": [
    "# scale the data\n",
    "scaler = MinMaxScaler(feature_range=(0, 1))\n",
    "scaler = scaler.fit(y)\n",
    "y = scaler.transform(y)"
   ]
  },
  {
   "cell_type": "markdown",
   "id": "8cb8356c",
   "metadata": {},
   "source": []
  },
  {
   "cell_type": "code",
   "execution_count": 346,
   "id": "772c6603",
   "metadata": {},
   "outputs": [],
   "source": [
    "# generate the input and output sequences, this will initiate following eg. it will look at past 72 observations to predict next 24\n",
    "n_lookback = 72  # length of input sequences (lookback period)\n",
    "n_forecast = 36  # length of output sequences (forecast period)"
   ]
  },
  {
   "cell_type": "code",
   "execution_count": 347,
   "id": "a9ca3c70",
   "metadata": {},
   "outputs": [],
   "source": [
    "#initialize empty lists\n",
    "X = []\n",
    "Y = []\n",
    "\n",
    "#create loop to make input and output sequence based on initial sequence from cell above, then convert to np array\n",
    "for i in range(n_lookback, len(y) - n_forecast + 1):\n",
    "    X.append(y[i - n_lookback: i])\n",
    "    Y.append(y[i: i + n_forecast])\n",
    "\n",
    "X = np.array(X)\n",
    "Y = np.array(Y)"
   ]
  },
  {
   "cell_type": "code",
   "execution_count": 348,
   "id": "709538b3",
   "metadata": {},
   "outputs": [
    {
     "name": "stdout",
     "output_type": "stream",
     "text": [
      "Epoch 1 MSE: 0.0197622571\n",
      "Epoch 2 MSE: 0.0142255751\n",
      "Epoch 3 MSE: 0.0135605894\n",
      "Epoch 4 MSE: 0.0138021549\n",
      "Epoch 5 MSE: 0.0129397586\n",
      "Epoch 6 MSE: 0.0043508671\n",
      "Epoch 7 MSE: 0.0033818667\n",
      "Epoch 8 MSE: 0.0031172284\n",
      "Epoch 9 MSE: 0.0031810962\n",
      "Epoch 10 MSE: 0.0030134988\n",
      "Epoch 11 MSE: 0.0029510143\n",
      "Epoch 12 MSE: 0.0029954098\n",
      "Epoch 13 MSE: 0.0028788229\n",
      "Epoch 14 MSE: 0.0026428779\n",
      "Epoch 15 MSE: 0.0022562097\n",
      "Epoch 16 MSE: 0.0021629038\n",
      "Epoch 17 MSE: 0.0019546652\n",
      "Epoch 18 MSE: 0.0020281698\n",
      "Epoch 19 MSE: 0.0019750074\n",
      "Epoch 20 MSE: 0.0020086893\n"
     ]
    },
    {
     "data": {
      "text/plain": [
       "<keras.callbacks.History at 0x28ed2471a10>"
      ]
     },
     "execution_count": 348,
     "metadata": {},
     "output_type": "execute_result"
    }
   ],
   "source": [
    "# Define a custom callback to track MSE\n",
    "class MSECallback(Callback):\n",
    "    def on_epoch_end(self, epoch, logs=None):\n",
    "        if logs is None:\n",
    "            logs = {}\n",
    "        mse = logs.get('loss')\n",
    "        print(f'Epoch {epoch + 1} MSE: {mse:.10f}')\n",
    "\n",
    "# Fit the model with the custom callback\n",
    "model = Sequential() # initialize a new model object, which is the simplest type of model in Keras\n",
    "\n",
    "model.add(LSTM(units=150, # number of units (neurons) in the LSTM layer\n",
    "                return_sequences=True, #allows the next LSTM layer to receive a sequence of outputs applicable when stacking LSTM layers\n",
    "                  input_shape=(n_lookback, 1))) # shape of the input data, 1 is the number of features per timestep\n",
    "\n",
    "\n",
    "model.add(LSTM(units=150)) #second layer with same neurons and default settings 'False'\n",
    "model.add(Dense(n_forecast)) #it helps the network learn complex, non-linear relationships\n",
    "\n",
    "model.compile(loss='mean_squared_error', optimizer='adam')\n",
    "\n",
    "mse_callback = MSECallback()  # Create an instance of the custom callback\n",
    "model.fit(X, Y,\n",
    "          epochs=20, #number of times the entire training dataset is passing thru the model\n",
    "          batch_size=1, #by default 32, number of samples processed before updating it\n",
    "          verbose=0, #mode for displaying progress during training, set to 0 which means silent\n",
    "          callbacks=[mse_callback]) #logging metrics"
   ]
  },
  {
   "cell_type": "code",
   "execution_count": 349,
   "id": "0d69db68",
   "metadata": {},
   "outputs": [
    {
     "name": "stdout",
     "output_type": "stream",
     "text": [
      "1/1 [==============================] - 1s 894ms/step\n"
     ]
    }
   ],
   "source": [
    "# generate the forecasts\n",
    "X_ = y[- n_lookback:]  # last available input sequence\n",
    "X_ = X_.reshape(1, n_lookback, 1)\n",
    "\n",
    "Y_ = model.predict(X_).reshape(-1, 1)\n",
    "Y_ = scaler.inverse_transform(Y_)"
   ]
  },
  {
   "cell_type": "code",
   "execution_count": 350,
   "id": "33bc74ff",
   "metadata": {},
   "outputs": [],
   "source": [
    "# organize the results in a data frame\n",
    "df_past = df.reset_index()\n",
    "df_past.rename(columns={'index': 'Date', 'Production': 'Actual Production'}, inplace=True)\n",
    "df_past['Production'] = pd.to_datetime(df_past['Date'])\n",
    "df_past['Forecast'] = np.nan\n",
    "df_past['Forecast'].iloc[-1] = df_past['Actual Production'].iloc[-1]"
   ]
  },
  {
   "cell_type": "code",
   "execution_count": 400,
   "id": "ac064016",
   "metadata": {},
   "outputs": [],
   "source": [
    "last_date = df_past['Date'].iloc[-1]\n",
    "to_forecast = n_forecast  # number of months to forecast based on prior input\n",
    "\n",
    "\n",
    "df_future = pd.DataFrame(columns=['Date', 'Actual Production', 'Forecast'])\n",
    "\n",
    "#creates future values as for months, if you want to have days hours etc. you need to specify\n",
    "df_future['Date'] = pd.date_range(start=last_date + pd.DateOffset(months=1), periods=to_forecast, freq='M')\n",
    "\n",
    "#specifies that each offset should be month end\n",
    "df_future['Date'] = df_future['Date'] + pd.offsets.MonthBegin(0)\n",
    "df_future['Forecast'] = Y_.flatten()\n",
    "df_future['Actual Production'] = np.nan"
   ]
  },
  {
   "cell_type": "code",
   "execution_count": 398,
   "id": "0c563327",
   "metadata": {},
   "outputs": [],
   "source": [
    "results = df_past.append(df_future).set_index('Date')"
   ]
  },
  {
   "cell_type": "code",
   "execution_count": 399,
   "id": "308cfcc0",
   "metadata": {},
   "outputs": [
    {
     "data": {
      "text/html": [
       "<div>\n",
       "<style scoped>\n",
       "    .dataframe tbody tr th:only-of-type {\n",
       "        vertical-align: middle;\n",
       "    }\n",
       "\n",
       "    .dataframe tbody tr th {\n",
       "        vertical-align: top;\n",
       "    }\n",
       "\n",
       "    .dataframe thead th {\n",
       "        text-align: right;\n",
       "    }\n",
       "</style>\n",
       "<table border=\"1\" class=\"dataframe\">\n",
       "  <thead>\n",
       "    <tr style=\"text-align: right;\">\n",
       "      <th></th>\n",
       "      <th>Actual Production</th>\n",
       "      <th>Forecast</th>\n",
       "    </tr>\n",
       "    <tr>\n",
       "      <th>Date</th>\n",
       "      <th></th>\n",
       "      <th></th>\n",
       "    </tr>\n",
       "  </thead>\n",
       "  <tbody>\n",
       "    <tr>\n",
       "      <th>1985-01-01</th>\n",
       "      <td>72.5052</td>\n",
       "      <td>NaN</td>\n",
       "    </tr>\n",
       "    <tr>\n",
       "      <th>1985-02-01</th>\n",
       "      <td>70.6720</td>\n",
       "      <td>NaN</td>\n",
       "    </tr>\n",
       "    <tr>\n",
       "      <th>1985-03-01</th>\n",
       "      <td>62.4502</td>\n",
       "      <td>NaN</td>\n",
       "    </tr>\n",
       "    <tr>\n",
       "      <th>1985-04-01</th>\n",
       "      <td>57.4714</td>\n",
       "      <td>NaN</td>\n",
       "    </tr>\n",
       "    <tr>\n",
       "      <th>1985-05-01</th>\n",
       "      <td>55.3151</td>\n",
       "      <td>NaN</td>\n",
       "    </tr>\n",
       "    <tr>\n",
       "      <th>...</th>\n",
       "      <td>...</td>\n",
       "      <td>...</td>\n",
       "    </tr>\n",
       "    <tr>\n",
       "      <th>2020-10-01</th>\n",
       "      <td>NaN</td>\n",
       "      <td>101.565300</td>\n",
       "    </tr>\n",
       "    <tr>\n",
       "      <th>2020-11-01</th>\n",
       "      <td>NaN</td>\n",
       "      <td>93.753387</td>\n",
       "    </tr>\n",
       "    <tr>\n",
       "      <th>2020-12-01</th>\n",
       "      <td>NaN</td>\n",
       "      <td>99.703613</td>\n",
       "    </tr>\n",
       "    <tr>\n",
       "      <th>2021-01-01</th>\n",
       "      <td>NaN</td>\n",
       "      <td>115.831665</td>\n",
       "    </tr>\n",
       "    <tr>\n",
       "      <th>2021-02-01</th>\n",
       "      <td>NaN</td>\n",
       "      <td>119.100365</td>\n",
       "    </tr>\n",
       "  </tbody>\n",
       "</table>\n",
       "<p>433 rows × 2 columns</p>\n",
       "</div>"
      ],
      "text/plain": [
       "            Actual Production    Forecast\n",
       "Date                                     \n",
       "1985-01-01            72.5052         NaN\n",
       "1985-02-01            70.6720         NaN\n",
       "1985-03-01            62.4502         NaN\n",
       "1985-04-01            57.4714         NaN\n",
       "1985-05-01            55.3151         NaN\n",
       "...                       ...         ...\n",
       "2020-10-01                NaN  101.565300\n",
       "2020-11-01                NaN   93.753387\n",
       "2020-12-01                NaN   99.703613\n",
       "2021-01-01                NaN  115.831665\n",
       "2021-02-01                NaN  119.100365\n",
       "\n",
       "[433 rows x 2 columns]"
      ]
     },
     "execution_count": 399,
     "metadata": {},
     "output_type": "execute_result"
    }
   ],
   "source": [
    "results.drop('Production', axis=1, inplace = True)\n",
    "results"
   ]
  },
  {
   "cell_type": "code",
   "execution_count": 354,
   "id": "211bba13",
   "metadata": {},
   "outputs": [
    {
     "data": {
      "image/png": "[encoded data removed]",
      "text/plain": [
       "<Figure size 640x480 with 1 Axes>"
      ]
     },
     "metadata": {},
     "output_type": "display_data"
    }
   ],
   "source": [
    "#assign start and end date of your graph\n",
    "start_date = '2009-01-31'\n",
    "end_date = '2021-02-01'\n",
    "selected_data = results.loc[start_date:end_date]\n",
    "\n",
    "plt.plot(selected_data)\n",
    "plt.xlabel('Date')\n",
    "plt.ylabel('Value')\n",
    "plt.title('Plot of Selected Data')\n",
    "plt.legend(selected_data.columns)\n",
    "\n",
    "# Adjust x-axis tick labels and make a tight layout\n",
    "plt.xticks(rotation=45)\n",
    "plt.tight_layout()\n",
    "\n",
    "plt.show()"
   ]
  },
  {
   "cell_type": "code",
   "execution_count": 395,
   "id": "aeb81cef",
   "metadata": {},
   "outputs": [],
   "source": [
    "#Preparing dataframe with predictions only for following figure\n",
    "forecastdf = pd.DataFrame(fcast).reset_index()\n",
    "selected_data_df = selected_data.reset_index()\n",
    "\n",
    "result = pd.merge(forecastdf, selected_data_df, left_index=True, right_index=True)\n",
    "result = result.drop(columns=[\"Date\",\"Actual Production\"]).rename(columns={\"index\":\"Date\"})\n",
    "result.set_index('Date', inplace=True)"
   ]
  },
  {
   "cell_type": "code",
   "execution_count": 401,
   "id": "ba32007a",
   "metadata": {},
   "outputs": [
    {
     "data": {
      "text/html": [
       "<div>\n",
       "<style scoped>\n",
       "    .dataframe tbody tr th:only-of-type {\n",
       "        vertical-align: middle;\n",
       "    }\n",
       "\n",
       "    .dataframe tbody tr th {\n",
       "        vertical-align: top;\n",
       "    }\n",
       "\n",
       "    .dataframe thead th {\n",
       "        text-align: right;\n",
       "    }\n",
       "</style>\n",
       "<table border=\"1\" class=\"dataframe\">\n",
       "  <thead>\n",
       "    <tr style=\"text-align: right;\">\n",
       "      <th></th>\n",
       "      <th>SARIMAX(order=(1, 1, 2), seasonal_order=(1, 0, 1, 12)) Forecast</th>\n",
       "      <th>Forecast</th>\n",
       "    </tr>\n",
       "    <tr>\n",
       "      <th>Date</th>\n",
       "      <th></th>\n",
       "      <th></th>\n",
       "    </tr>\n",
       "  </thead>\n",
       "  <tbody>\n",
       "    <tr>\n",
       "      <th>2018-02-01</th>\n",
       "      <td>113.471285</td>\n",
       "      <td>111.000771</td>\n",
       "    </tr>\n",
       "    <tr>\n",
       "      <th>2018-03-01</th>\n",
       "      <td>105.410704</td>\n",
       "      <td>100.777550</td>\n",
       "    </tr>\n",
       "    <tr>\n",
       "      <th>2018-04-01</th>\n",
       "      <td>95.802077</td>\n",
       "      <td>89.327950</td>\n",
       "    </tr>\n",
       "    <tr>\n",
       "      <th>2018-05-01</th>\n",
       "      <td>97.107203</td>\n",
       "      <td>91.068558</td>\n",
       "    </tr>\n",
       "    <tr>\n",
       "      <th>2018-06-01</th>\n",
       "      <td>107.720007</td>\n",
       "      <td>103.344292</td>\n",
       "    </tr>\n",
       "    <tr>\n",
       "      <th>2018-07-01</th>\n",
       "      <td>115.229801</td>\n",
       "      <td>109.764412</td>\n",
       "    </tr>\n",
       "    <tr>\n",
       "      <th>2018-08-01</th>\n",
       "      <td>116.024748</td>\n",
       "      <td>108.466324</td>\n",
       "    </tr>\n",
       "    <tr>\n",
       "      <th>2018-09-01</th>\n",
       "      <td>105.209895</td>\n",
       "      <td>98.853020</td>\n",
       "    </tr>\n",
       "    <tr>\n",
       "      <th>2018-10-01</th>\n",
       "      <td>97.717304</td>\n",
       "      <td>93.594360</td>\n",
       "    </tr>\n",
       "    <tr>\n",
       "      <th>2018-11-01</th>\n",
       "      <td>99.699922</td>\n",
       "      <td>100.683014</td>\n",
       "    </tr>\n",
       "    <tr>\n",
       "      <th>2018-12-01</th>\n",
       "      <td>116.363088</td>\n",
       "      <td>115.277672</td>\n",
       "    </tr>\n",
       "    <tr>\n",
       "      <th>2019-01-01</th>\n",
       "      <td>122.620061</td>\n",
       "      <td>118.390640</td>\n",
       "    </tr>\n",
       "    <tr>\n",
       "      <th>2019-02-01</th>\n",
       "      <td>114.165083</td>\n",
       "      <td>111.178146</td>\n",
       "    </tr>\n",
       "    <tr>\n",
       "      <th>2019-03-01</th>\n",
       "      <td>106.147241</td>\n",
       "      <td>98.311745</td>\n",
       "    </tr>\n",
       "    <tr>\n",
       "      <th>2019-04-01</th>\n",
       "      <td>96.589560</td>\n",
       "      <td>89.924843</td>\n",
       "    </tr>\n",
       "    <tr>\n",
       "      <th>2019-05-01</th>\n",
       "      <td>97.887766</td>\n",
       "      <td>94.797356</td>\n",
       "    </tr>\n",
       "    <tr>\n",
       "      <th>2019-06-01</th>\n",
       "      <td>108.444299</td>\n",
       "      <td>105.218933</td>\n",
       "    </tr>\n",
       "    <tr>\n",
       "      <th>2019-07-01</th>\n",
       "      <td>115.914275</td>\n",
       "      <td>112.241867</td>\n",
       "    </tr>\n",
       "    <tr>\n",
       "      <th>2019-08-01</th>\n",
       "      <td>116.705007</td>\n",
       "      <td>113.153458</td>\n",
       "    </tr>\n",
       "    <tr>\n",
       "      <th>2019-09-01</th>\n",
       "      <td>105.947497</td>\n",
       "      <td>99.033897</td>\n",
       "    </tr>\n",
       "    <tr>\n",
       "      <th>2019-10-01</th>\n",
       "      <td>98.494633</td>\n",
       "      <td>91.526031</td>\n",
       "    </tr>\n",
       "    <tr>\n",
       "      <th>2019-11-01</th>\n",
       "      <td>100.466739</td>\n",
       "      <td>98.207428</td>\n",
       "    </tr>\n",
       "    <tr>\n",
       "      <th>2019-12-01</th>\n",
       "      <td>117.041553</td>\n",
       "      <td>114.489021</td>\n",
       "    </tr>\n",
       "    <tr>\n",
       "      <th>2020-01-01</th>\n",
       "      <td>123.265350</td>\n",
       "      <td>117.223373</td>\n",
       "    </tr>\n",
       "    <tr>\n",
       "      <th>2020-02-01</th>\n",
       "      <td>114.855202</td>\n",
       "      <td>109.129005</td>\n",
       "    </tr>\n",
       "    <tr>\n",
       "      <th>2020-03-01</th>\n",
       "      <td>106.879873</td>\n",
       "      <td>100.028214</td>\n",
       "    </tr>\n",
       "    <tr>\n",
       "      <th>2020-04-01</th>\n",
       "      <td>97.372868</td>\n",
       "      <td>89.764450</td>\n",
       "    </tr>\n",
       "    <tr>\n",
       "      <th>2020-05-01</th>\n",
       "      <td>98.664191</td>\n",
       "      <td>94.235558</td>\n",
       "    </tr>\n",
       "    <tr>\n",
       "      <th>2020-06-01</th>\n",
       "      <td>109.164751</td>\n",
       "      <td>107.039864</td>\n",
       "    </tr>\n",
       "    <tr>\n",
       "      <th>2020-07-01</th>\n",
       "      <td>116.595120</td>\n",
       "      <td>115.747734</td>\n",
       "    </tr>\n",
       "    <tr>\n",
       "      <th>2020-08-01</th>\n",
       "      <td>117.381659</td>\n",
       "      <td>113.197945</td>\n",
       "    </tr>\n",
       "    <tr>\n",
       "      <th>2020-09-01</th>\n",
       "      <td>106.681187</td>\n",
       "      <td>101.565300</td>\n",
       "    </tr>\n",
       "    <tr>\n",
       "      <th>2020-10-01</th>\n",
       "      <td>99.267840</td>\n",
       "      <td>93.753387</td>\n",
       "    </tr>\n",
       "    <tr>\n",
       "      <th>2020-11-01</th>\n",
       "      <td>101.229489</td>\n",
       "      <td>99.703613</td>\n",
       "    </tr>\n",
       "    <tr>\n",
       "      <th>2020-12-01</th>\n",
       "      <td>117.716421</td>\n",
       "      <td>115.831665</td>\n",
       "    </tr>\n",
       "    <tr>\n",
       "      <th>2021-01-01</th>\n",
       "      <td>123.907218</td>\n",
       "      <td>119.100365</td>\n",
       "    </tr>\n",
       "  </tbody>\n",
       "</table>\n",
       "</div>"
      ],
      "text/plain": [
       "            SARIMAX(order=(1, 1, 2), seasonal_order=(1, 0, 1, 12)) Forecast  \\\n",
       "Date                                                                          \n",
       "2018-02-01                                         113.471285                 \n",
       "2018-03-01                                         105.410704                 \n",
       "2018-04-01                                          95.802077                 \n",
       "2018-05-01                                          97.107203                 \n",
       "2018-06-01                                         107.720007                 \n",
       "2018-07-01                                         115.229801                 \n",
       "2018-08-01                                         116.024748                 \n",
       "2018-09-01                                         105.209895                 \n",
       "2018-10-01                                          97.717304                 \n",
       "2018-11-01                                          99.699922                 \n",
       "2018-12-01                                         116.363088                 \n",
       "2019-01-01                                         122.620061                 \n",
       "2019-02-01                                         114.165083                 \n",
       "2019-03-01                                         106.147241                 \n",
       "2019-04-01                                          96.589560                 \n",
       "2019-05-01                                          97.887766                 \n",
       "2019-06-01                                         108.444299                 \n",
       "2019-07-01                                         115.914275                 \n",
       "2019-08-01                                         116.705007                 \n",
       "2019-09-01                                         105.947497                 \n",
       "2019-10-01                                          98.494633                 \n",
       "2019-11-01                                         100.466739                 \n",
       "2019-12-01                                         117.041553                 \n",
       "2020-01-01                                         123.265350                 \n",
       "2020-02-01                                         114.855202                 \n",
       "2020-03-01                                         106.879873                 \n",
       "2020-04-01                                          97.372868                 \n",
       "2020-05-01                                          98.664191                 \n",
       "2020-06-01                                         109.164751                 \n",
       "2020-07-01                                         116.595120                 \n",
       "2020-08-01                                         117.381659                 \n",
       "2020-09-01                                         106.681187                 \n",
       "2020-10-01                                          99.267840                 \n",
       "2020-11-01                                         101.229489                 \n",
       "2020-12-01                                         117.716421                 \n",
       "2021-01-01                                         123.907218                 \n",
       "\n",
       "              Forecast  \n",
       "Date                    \n",
       "2018-02-01  111.000771  \n",
       "2018-03-01  100.777550  \n",
       "2018-04-01   89.327950  \n",
       "2018-05-01   91.068558  \n",
       "2018-06-01  103.344292  \n",
       "2018-07-01  109.764412  \n",
       "2018-08-01  108.466324  \n",
       "2018-09-01   98.853020  \n",
       "2018-10-01   93.594360  \n",
       "2018-11-01  100.683014  \n",
       "2018-12-01  115.277672  \n",
       "2019-01-01  118.390640  \n",
       "2019-02-01  111.178146  \n",
       "2019-03-01   98.311745  \n",
       "2019-04-01   89.924843  \n",
       "2019-05-01   94.797356  \n",
       "2019-06-01  105.218933  \n",
       "2019-07-01  112.241867  \n",
       "2019-08-01  113.153458  \n",
       "2019-09-01   99.033897  \n",
       "2019-10-01   91.526031  \n",
       "2019-11-01   98.207428  \n",
       "2019-12-01  114.489021  \n",
       "2020-01-01  117.223373  \n",
       "2020-02-01  109.129005  \n",
       "2020-03-01  100.028214  \n",
       "2020-04-01   89.764450  \n",
       "2020-05-01   94.235558  \n",
       "2020-06-01  107.039864  \n",
       "2020-07-01  115.747734  \n",
       "2020-08-01  113.197945  \n",
       "2020-09-01  101.565300  \n",
       "2020-10-01   93.753387  \n",
       "2020-11-01   99.703613  \n",
       "2020-12-01  115.831665  \n",
       "2021-01-01  119.100365  "
      ]
     },
     "execution_count": 401,
     "metadata": {},
     "output_type": "execute_result"
    }
   ],
   "source": [
    "result"
   ]
  },
  {
   "cell_type": "code",
   "execution_count": 413,
   "id": "afca5812",
   "metadata": {},
   "outputs": [
    {
     "data": {
      "application/vnd.plotly.v1+json": {
       "config": {
        "plotlyServerURL": "https://plot.ly"
       },
       "data": [
        {
         "mode": "lines",
         "name": "Production",
         "type": "scatter",
         "x": [
          "1985-01-01T00:00:00",
          "1985-02-01T00:00:00",
          "1985-03-01T00:00:00",
          "1985-04-01T00:00:00",
          "1985-05-01T00:00:00",
          "1985-06-01T00:00:00",
          "1985-07-01T00:00:00",
          "1985-08-01T00:00:00",
          "1985-09-01T00:00:00",
          "1985-10-01T00:00:00",
          "1985-11-01T00:00:00",
          "1985-12-01T00:00:00",
          "1986-01-01T00:00:00",
          "1986-02-01T00:00:00",
          "1986-03-01T00:00:00",
          "1986-04-01T00:00:00",
          "1986-05-01T00:00:00",
          "1986-06-01T00:00:00",
          "1986-07-01T00:00:00",
          "1986-08-01T00:00:00",
          "1986-09-01T00:00:00",
          "1986-10-01T00:00:00",
          "1986-11-01T00:00:00",
          "1986-12-01T00:00:00",
          "1987-01-01T00:00:00",
          "1987-02-01T00:00:00",
          "1987-03-01T00:00:00",
          "1987-04-01T00:00:00",
          "1987-05-01T00:00:00",
          "1987-06-01T00:00:00",
          "1987-07-01T00:00:00",
          "1987-08-01T00:00:00",
          "1987-09-01T00:00:00",
          "1987-10-01T00:00:00",
          "1987-11-01T00:00:00",
          "1987-12-01T00:00:00",
          "1988-01-01T00:00:00",
          "1988-02-01T00:00:00",
          "1988-03-01T00:00:00",
          "1988-04-01T00:00:00",
          "1988-05-01T00:00:00",
          "1988-06-01T00:00:00",
          "1988-07-01T00:00:00",
          "1988-08-01T00:00:00",
          "1988-09-01T00:00:00",
          "1988-10-01T00:00:00",
          "1988-11-01T00:00:00",
          "1988-12-01T00:00:00",
          "1989-01-01T00:00:00",
          "1989-02-01T00:00:00",
          "1989-03-01T00:00:00",
          "1989-04-01T00:00:00",
          "1989-05-01T00:00:00",
          "1989-06-01T00:00:00",
          "1989-07-01T00:00:00",
          "1989-08-01T00:00:00",
          "1989-09-01T00:00:00",
          "1989-10-01T00:00:00",
          "1989-11-01T00:00:00",
          "1989-12-01T00:00:00",
          "1990-01-01T00:00:00",
          "1990-02-01T00:00:00",
          "1990-03-01T00:00:00",
          "1990-04-01T00:00:00",
          "1990-05-01T00:00:00",
          "1990-06-01T00:00:00",
          "1990-07-01T00:00:00",
          "1990-08-01T00:00:00",
          "1990-09-01T00:00:00",
          "1990-10-01T00:00:00",
          "1990-11-01T00:00:00",
          "1990-12-01T00:00:00",
          "1991-01-01T00:00:00",
          "1991-02-01T00:00:00",
          "1991-03-01T00:00:00",
          "1991-04-01T00:00:00",
          "1991-05-01T00:00:00",
          "1991-06-01T00:00:00",
          "1991-07-01T00:00:00",
          "1991-08-01T00:00:00",
          "1991-09-01T00:00:00",
          "1991-10-01T00:00:00",
          "1991-11-01T00:00:00",
          "1991-12-01T00:00:00",
          "1992-01-01T00:00:00",
          "1992-02-01T00:00:00",
          "1992-03-01T00:00:00",
          "1992-04-01T00:00:00",
          "1992-05-01T00:00:00",
          "1992-06-01T00:00:00",
          "1992-07-01T00:00:00",
          "1992-08-01T00:00:00",
          "1992-09-01T00:00:00",
          "1992-10-01T00:00:00",
          "1992-11-01T00:00:00",
          "1992-12-01T00:00:00",
          "1993-01-01T00:00:00",
          "1993-02-01T00:00:00",
          "1993-03-01T00:00:00",
          "1993-04-01T00:00:00",
          "1993-05-01T00:00:00",
          "1993-06-01T00:00:00",
          "1993-07-01T00:00:00",
          "1993-08-01T00:00:00",
          "1993-09-01T00:00:00",
          "1993-10-01T00:00:00",
          "1993-11-01T00:00:00",
          "1993-12-01T00:00:00",
          "1994-01-01T00:00:00",
          "1994-02-01T00:00:00",
          "1994-03-01T00:00:00",
          "1994-04-01T00:00:00",
          "1994-05-01T00:00:00",
          "1994-06-01T00:00:00",
          "1994-07-01T00:00:00",
          "1994-08-01T00:00:00",
          "1994-09-01T00:00:00",
          "1994-10-01T00:00:00",
          "1994-11-01T00:00:00",
          "1994-12-01T00:00:00",
          "1995-01-01T00:00:00",
          "1995-02-01T00:00:00",
          "1995-03-01T00:00:00",
          "1995-04-01T00:00:00",
          "1995-05-01T00:00:00",
          "1995-06-01T00:00:00",
          "1995-07-01T00:00:00",
          "1995-08-01T00:00:00",
          "1995-09-01T00:00:00",
          "1995-10-01T00:00:00",
          "1995-11-01T00:00:00",
          "1995-12-01T00:00:00",
          "1996-01-01T00:00:00",
          "1996-02-01T00:00:00",
          "1996-03-01T00:00:00",
          "1996-04-01T00:00:00",
          "1996-05-01T00:00:00",
          "1996-06-01T00:00:00",
          "1996-07-01T00:00:00",
          "1996-08-01T00:00:00",
          "1996-09-01T00:00:00",
          "1996-10-01T00:00:00",
          "1996-11-01T00:00:00",
          "1996-12-01T00:00:00",
          "1997-01-01T00:00:00",
          "1997-02-01T00:00:00",
          "1997-03-01T00:00:00",
          "1997-04-01T00:00:00",
          "1997-05-01T00:00:00",
          "1997-06-01T00:00:00",
          "1997-07-01T00:00:00",
          "1997-08-01T00:00:00",
          "1997-09-01T00:00:00",
          "1997-10-01T00:00:00",
          "1997-11-01T00:00:00",
          "1997-12-01T00:00:00",
          "1998-01-01T00:00:00",
          "1998-02-01T00:00:00",
          "1998-03-01T00:00:00",
          "1998-04-01T00:00:00",
          "1998-05-01T00:00:00",
          "1998-06-01T00:00:00",
          "1998-07-01T00:00:00",
          "1998-08-01T00:00:00",
          "1998-09-01T00:00:00",
          "1998-10-01T00:00:00",
          "1998-11-01T00:00:00",
          "1998-12-01T00:00:00",
          "1999-01-01T00:00:00",
          "1999-02-01T00:00:00",
          "1999-03-01T00:00:00",
          "1999-04-01T00:00:00",
          "1999-05-01T00:00:00",
          "1999-06-01T00:00:00",
          "1999-07-01T00:00:00",
          "1999-08-01T00:00:00",
          "1999-09-01T00:00:00",
          "1999-10-01T00:00:00",
          "1999-11-01T00:00:00",
          "1999-12-01T00:00:00",
          "2000-01-01T00:00:00",
          "2000-02-01T00:00:00",
          "2000-03-01T00:00:00",
          "2000-04-01T00:00:00",
          "2000-05-01T00:00:00",
          "2000-06-01T00:00:00",
          "2000-07-01T00:00:00",
          "2000-08-01T00:00:00",
          "2000-09-01T00:00:00",
          "2000-10-01T00:00:00",
          "2000-11-01T00:00:00",
          "2000-12-01T00:00:00",
          "2001-01-01T00:00:00",
          "2001-02-01T00:00:00",
          "2001-03-01T00:00:00",
          "2001-04-01T00:00:00",
          "2001-05-01T00:00:00",
          "2001-06-01T00:00:00",
          "2001-07-01T00:00:00",
          "2001-08-01T00:00:00",
          "2001-09-01T00:00:00",
          "2001-10-01T00:00:00",
          "2001-11-01T00:00:00",
          "2001-12-01T00:00:00",
          "2002-01-01T00:00:00",
          "2002-02-01T00:00:00",
          "2002-03-01T00:00:00",
          "2002-04-01T00:00:00",
          "2002-05-01T00:00:00",
          "2002-06-01T00:00:00",
          "2002-07-01T00:00:00",
          "2002-08-01T00:00:00",
          "2002-09-01T00:00:00",
          "2002-10-01T00:00:00",
          "2002-11-01T00:00:00",
          "2002-12-01T00:00:00",
          "2003-01-01T00:00:00",
          "2003-02-01T00:00:00",
          "2003-03-01T00:00:00",
          "2003-04-01T00:00:00",
          "2003-05-01T00:00:00",
          "2003-06-01T00:00:00",
          "2003-07-01T00:00:00",
          "2003-08-01T00:00:00",
          "2003-09-01T00:00:00",
          "2003-10-01T00:00:00",
          "2003-11-01T00:00:00",
          "2003-12-01T00:00:00",
          "2004-01-01T00:00:00",
          "2004-02-01T00:00:00",
          "2004-03-01T00:00:00",
          "2004-04-01T00:00:00",
          "2004-05-01T00:00:00",
          "2004-06-01T00:00:00",
          "2004-07-01T00:00:00",
          "2004-08-01T00:00:00",
          "2004-09-01T00:00:00",
          "2004-10-01T00:00:00",
          "2004-11-01T00:00:00",
          "2004-12-01T00:00:00",
          "2005-01-01T00:00:00",
          "2005-02-01T00:00:00",
          "2005-03-01T00:00:00",
          "2005-04-01T00:00:00",
          "2005-05-01T00:00:00",
          "2005-06-01T00:00:00",
          "2005-07-01T00:00:00",
          "2005-08-01T00:00:00",
          "2005-09-01T00:00:00",
          "2005-10-01T00:00:00",
          "2005-11-01T00:00:00",
          "2005-12-01T00:00:00",
          "2006-01-01T00:00:00",
          "2006-02-01T00:00:00",
          "2006-03-01T00:00:00",
          "2006-04-01T00:00:00",
          "2006-05-01T00:00:00",
          "2006-06-01T00:00:00",
          "2006-07-01T00:00:00",
          "2006-08-01T00:00:00",
          "2006-09-01T00:00:00",
          "2006-10-01T00:00:00",
          "2006-11-01T00:00:00",
          "2006-12-01T00:00:00",
          "2007-01-01T00:00:00",
          "2007-02-01T00:00:00",
          "2007-03-01T00:00:00",
          "2007-04-01T00:00:00",
          "2007-05-01T00:00:00",
          "2007-06-01T00:00:00",
          "2007-07-01T00:00:00",
          "2007-08-01T00:00:00",
          "2007-09-01T00:00:00",
          "2007-10-01T00:00:00",
          "2007-11-01T00:00:00",
          "2007-12-01T00:00:00",
          "2008-01-01T00:00:00",
          "2008-02-01T00:00:00",
          "2008-03-01T00:00:00",
          "2008-04-01T00:00:00",
          "2008-05-01T00:00:00",
          "2008-06-01T00:00:00",
          "2008-07-01T00:00:00",
          "2008-08-01T00:00:00",
          "2008-09-01T00:00:00",
          "2008-10-01T00:00:00",
          "2008-11-01T00:00:00",
          "2008-12-01T00:00:00",
          "2009-01-01T00:00:00",
          "2009-02-01T00:00:00",
          "2009-03-01T00:00:00",
          "2009-04-01T00:00:00",
          "2009-05-01T00:00:00",
          "2009-06-01T00:00:00",
          "2009-07-01T00:00:00",
          "2009-08-01T00:00:00",
          "2009-09-01T00:00:00",
          "2009-10-01T00:00:00",
          "2009-11-01T00:00:00",
          "2009-12-01T00:00:00",
          "2010-01-01T00:00:00",
          "2010-02-01T00:00:00",
          "2010-03-01T00:00:00",
          "2010-04-01T00:00:00",
          "2010-05-01T00:00:00",
          "2010-06-01T00:00:00",
          "2010-07-01T00:00:00",
          "2010-08-01T00:00:00",
          "2010-09-01T00:00:00",
          "2010-10-01T00:00:00",
          "2010-11-01T00:00:00",
          "2010-12-01T00:00:00",
          "2011-01-01T00:00:00",
          "2011-02-01T00:00:00",
          "2011-03-01T00:00:00",
          "2011-04-01T00:00:00",
          "2011-05-01T00:00:00",
          "2011-06-01T00:00:00",
          "2011-07-01T00:00:00",
          "2011-08-01T00:00:00",
          "2011-09-01T00:00:00",
          "2011-10-01T00:00:00",
          "2011-11-01T00:00:00",
          "2011-12-01T00:00:00",
          "2012-01-01T00:00:00",
          "2012-02-01T00:00:00",
          "2012-03-01T00:00:00",
          "2012-04-01T00:00:00",
          "2012-05-01T00:00:00",
          "2012-06-01T00:00:00",
          "2012-07-01T00:00:00",
          "2012-08-01T00:00:00",
          "2012-09-01T00:00:00",
          "2012-10-01T00:00:00",
          "2012-11-01T00:00:00",
          "2012-12-01T00:00:00",
          "2013-01-01T00:00:00",
          "2013-02-01T00:00:00",
          "2013-03-01T00:00:00",
          "2013-04-01T00:00:00",
          "2013-05-01T00:00:00",
          "2013-06-01T00:00:00",
          "2013-07-01T00:00:00",
          "2013-08-01T00:00:00",
          "2013-09-01T00:00:00",
          "2013-10-01T00:00:00",
          "2013-11-01T00:00:00",
          "2013-12-01T00:00:00",
          "2014-01-01T00:00:00",
          "2014-02-01T00:00:00",
          "2014-03-01T00:00:00",
          "2014-04-01T00:00:00",
          "2014-05-01T00:00:00",
          "2014-06-01T00:00:00",
          "2014-07-01T00:00:00",
          "2014-08-01T00:00:00",
          "2014-09-01T00:00:00",
          "2014-10-01T00:00:00",
          "2014-11-01T00:00:00",
          "2014-12-01T00:00:00",
          "2015-01-01T00:00:00",
          "2015-02-01T00:00:00",
          "2015-03-01T00:00:00",
          "2015-04-01T00:00:00",
          "2015-05-01T00:00:00",
          "2015-06-01T00:00:00",
          "2015-07-01T00:00:00",
          "2015-08-01T00:00:00",
          "2015-09-01T00:00:00",
          "2015-10-01T00:00:00",
          "2015-11-01T00:00:00",
          "2015-12-01T00:00:00",
          "2016-01-01T00:00:00",
          "2016-02-01T00:00:00",
          "2016-03-01T00:00:00",
          "2016-04-01T00:00:00",
          "2016-05-01T00:00:00",
          "2016-06-01T00:00:00",
          "2016-07-01T00:00:00",
          "2016-08-01T00:00:00",
          "2016-09-01T00:00:00",
          "2016-10-01T00:00:00",
          "2016-11-01T00:00:00",
          "2016-12-01T00:00:00",
          "2017-01-01T00:00:00",
          "2017-02-01T00:00:00",
          "2017-03-01T00:00:00",
          "2017-04-01T00:00:00",
          "2017-05-01T00:00:00",
          "2017-06-01T00:00:00",
          "2017-07-01T00:00:00",
          "2017-08-01T00:00:00",
          "2017-09-01T00:00:00",
          "2017-10-01T00:00:00",
          "2017-11-01T00:00:00",
          "2017-12-01T00:00:00",
          "2018-01-01T00:00:00"
         ],
         "y": [
          72.5052,
          70.672,
          62.4502,
          57.4714,
          55.3151,
          58.0904,
          62.6202,
          63.2485,
          60.5846,
          56.3154,
          58.0005,
          68.7145,
          73.3057,
          67.9869,
          62.2221,
          57.0329,
          55.8137,
          59.9005,
          65.7655,
          64.4816,
          61.0005,
          57.5322,
          59.3417,
          68.1354,
          73.8152,
          70.062,
          65.61,
          60.1586,
          58.8734,
          63.8918,
          68.8694,
          70.0669,
          64.1151,
          60.3789,
          62.4643,
          70.5777,
          79.8703,
          76.1622,
          70.2928,
          63.2384,
          61.4065,
          67.1097,
          72.9816,
          75.7655,
          67.5152,
          63.2832,
          65.1078,
          73.8631,
          77.9188,
          76.6822,
          73.3523,
          65.1081,
          63.6892,
          68.4722,
          74.0301,
          75.0448,
          69.3053,
          65.8735,
          69.0706,
          84.1949,
          84.3598,
          77.1726,
          73.1964,
          67.2781,
          65.8218,
          71.4654,
          76.614,
          77.1052,
          73.061,
          67.4365,
          68.5665,
          77.6839,
          86.0214,
          77.5573,
          73.365,
          67.15,
          68.8162,
          74.8448,
          80.0928,
          79.1606,
          73.5743,
          68.7538,
          72.5166,
          79.4894,
          85.2855,
          80.1643,
          74.5275,
          69.6441,
          67.1784,
          71.2078,
          77.5081,
          76.5374,
          72.3541,
          69.0286,
          73.4992,
          84.5159,
          87.9464,
          84.5561,
          79.4747,
          71.0578,
          67.6762,
          74.3297,
          82.1048,
          82.0605,
          74.6031,
          69.681,
          74.4292,
          84.2284,
          94.1386,
          87.1607,
          79.2456,
          70.9749,
          69.3844,
          77.9831,
          83.277,
          81.8872,
          75.6826,
          71.2661,
          75.2458,
          84.8147,
          92.4532,
          87.4033,
          81.2661,
          73.8167,
          73.2682,
          78.3026,
          85.9841,
          89.5467,
          78.5035,
          73.7066,
          79.6543,
          90.8251,
          98.9732,
          92.8883,
          86.9356,
          77.2214,
          76.6826,
          81.9306,
          85.9606,
          86.5562,
          79.1919,
          74.6891,
          81.074,
          90.4855,
          98.4613,
          89.7795,
          83.0125,
          76.1476,
          73.8471,
          79.7645,
          88.4519,
          87.7828,
          81.9386,
          77.5027,
          82.0448,
          92.101,
          94.792,
          87.82,
          86.5549,
          76.7521,
          78.0303,
          86.4579,
          93.8379,
          93.531,
          87.5414,
          80.0924,
          81.4349,
          91.6841,
          102.1348,
          91.1829,
          90.7381,
          80.5176,
          79.3887,
          87.8431,
          97.4903,
          96.4157,
          87.2248,
          80.6409,
          82.2025,
          94.5113,
          102.2301,
          94.2989,
          88.0927,
          81.4425,
          84.4552,
          91.0406,
          95.9957,
          99.3704,
          90.9178,
          83.1408,
          88.041,
          102.4558,
          109.1081,
          97.1717,
          92.8283,
          82.915,
          82.5465,
          90.3955,
          96.074,
          99.5534,
          88.281,
          82.686,
          82.9319,
          93.0381,
          102.9955,
          95.2075,
          93.2556,
          85.795,
          85.2351,
          93.1896,
          102.393,
          101.6293,
          93.3089,
          86.9002,
          88.5749,
          100.8003,
          110.1807,
          103.8413,
          94.5532,
          85.062,
          85.4653,
          91.0761,
          102.22,
          104.4682,
          92.9135,
          86.5047,
          88.5735,
          103.5428,
          113.7226,
          106.159,
          95.4029,
          86.7233,
          89.0302,
          95.5045,
          101.7948,
          100.2025,
          94.024,
          87.5262,
          89.6144,
          105.7263,
          111.1614,
          101.7795,
          98.9565,
          86.4776,
          87.2234,
          99.5076,
          108.3501,
          109.4862,
          99.1155,
          89.7567,
          90.4587,
          108.2257,
          104.4724,
          101.5196,
          98.4017,
          87.5093,
          90.0222,
          100.5244,
          110.9503,
          111.5192,
          95.7632,
          90.3738,
          92.3566,
          103.066,
          112.0576,
          111.8399,
          99.1925,
          90.8177,
          92.0587,
          100.9676,
          107.5686,
          114.1036,
          101.5316,
          93.0068,
          93.9126,
          106.7528,
          114.8331,
          108.2353,
          100.4386,
          90.9944,
          91.2348,
          103.9581,
          110.7631,
          107.5665,
          97.7183,
          90.9979,
          93.8057,
          109.4221,
          116.8316,
          104.4202,
          97.8529,
          88.1973,
          87.5366,
          97.2387,
          103.9086,
          105.7486,
          94.8823,
          89.2977,
          89.3585,
          110.6844,
          119.0166,
          110.533,
          98.2672,
          86.3,
          90.8364,
          104.3538,
          112.8066,
          112.9014,
          100.1209,
          88.9251,
          92.775,
          114.3266,
          119.488,
          107.3753,
          99.1028,
          89.3583,
          90.0698,
          102.8204,
          114.7068,
          113.5958,
          99.4712,
          90.3566,
          93.8095,
          107.3312,
          111.9646,
          103.3679,
          93.5772,
          87.5566,
          92.7603,
          101.14,
          113.0357,
          109.8601,
          96.7431,
          90.3805,
          94.3417,
          105.2722,
          115.501,
          106.734,
          102.9948,
          91.0092,
          90.9634,
          100.6957,
          110.148,
          108.1756,
          99.2809,
          91.7871,
          97.2853,
          113.4732,
          124.2549,
          112.8811,
          104.7631,
          90.2867,
          92.134,
          101.878,
          108.5497,
          108.194,
          100.4172,
          92.3837,
          99.7033,
          109.3477,
          120.2696,
          116.3788,
          104.4706,
          89.7461,
          91.093,
          102.6495,
          111.6354,
          110.5925,
          101.9204,
          91.5959,
          93.0628,
          103.2203,
          117.0837,
          106.6688,
          95.3548,
          89.3254,
          90.7369,
          104.0375,
          114.5397,
          115.5159,
          102.7637,
          91.4867,
          92.89,
          112.7694,
          114.8505,
          99.4901,
          101.0396,
          88.353,
          92.0805,
          102.1532,
          112.1538,
          108.9312,
          98.6154,
          93.6137,
          97.3359,
          114.7212,
          129.4048
         ]
        },
        {
         "mode": "lines",
         "name": "LSTM Forecast",
         "type": "scatter",
         "x": [
          "2018-02-01T00:00:00",
          "2018-03-01T00:00:00",
          "2018-04-01T00:00:00",
          "2018-05-01T00:00:00",
          "2018-06-01T00:00:00",
          "2018-07-01T00:00:00",
          "2018-08-01T00:00:00",
          "2018-09-01T00:00:00",
          "2018-10-01T00:00:00",
          "2018-11-01T00:00:00",
          "2018-12-01T00:00:00",
          "2019-01-01T00:00:00",
          "2019-02-01T00:00:00",
          "2019-03-01T00:00:00",
          "2019-04-01T00:00:00",
          "2019-05-01T00:00:00",
          "2019-06-01T00:00:00",
          "2019-07-01T00:00:00",
          "2019-08-01T00:00:00",
          "2019-09-01T00:00:00",
          "2019-10-01T00:00:00",
          "2019-11-01T00:00:00",
          "2019-12-01T00:00:00",
          "2020-01-01T00:00:00",
          "2020-02-01T00:00:00",
          "2020-03-01T00:00:00",
          "2020-04-01T00:00:00",
          "2020-05-01T00:00:00",
          "2020-06-01T00:00:00",
          "2020-07-01T00:00:00",
          "2020-08-01T00:00:00",
          "2020-09-01T00:00:00",
          "2020-10-01T00:00:00",
          "2020-11-01T00:00:00",
          "2020-12-01T00:00:00",
          "2021-01-01T00:00:00"
         ],
         "y": [
          111.00077056884766,
          100.77754974365234,
          89.32794952392578,
          91.06855773925781,
          103.34429168701172,
          109.76441192626953,
          108.46632385253906,
          98.85301971435547,
          93.5943603515625,
          100.68301391601562,
          115.27767181396484,
          118.39064025878906,
          111.17814636230469,
          98.3117446899414,
          89.92484283447266,
          94.79735565185547,
          105.21893310546875,
          112.24186706542969,
          113.15345764160156,
          99.03389739990234,
          91.52603149414062,
          98.20742797851562,
          114.48902130126953,
          117.22337341308594,
          109.1290054321289,
          100.02821350097656,
          89.76445007324219,
          94.23555755615234,
          107.03986358642578,
          115.74773406982422,
          113.19794464111328,
          101.56529998779297,
          93.75338745117188,
          99.70361328125,
          115.8316650390625,
          119.1003646850586
         ]
        },
        {
         "mode": "lines",
         "name": "SARIMAX Forecast",
         "type": "scatter",
         "x": [
          "2018-02-01T00:00:00",
          "2018-03-01T00:00:00",
          "2018-04-01T00:00:00",
          "2018-05-01T00:00:00",
          "2018-06-01T00:00:00",
          "2018-07-01T00:00:00",
          "2018-08-01T00:00:00",
          "2018-09-01T00:00:00",
          "2018-10-01T00:00:00",
          "2018-11-01T00:00:00",
          "2018-12-01T00:00:00",
          "2019-01-01T00:00:00",
          "2019-02-01T00:00:00",
          "2019-03-01T00:00:00",
          "2019-04-01T00:00:00",
          "2019-05-01T00:00:00",
          "2019-06-01T00:00:00",
          "2019-07-01T00:00:00",
          "2019-08-01T00:00:00",
          "2019-09-01T00:00:00",
          "2019-10-01T00:00:00",
          "2019-11-01T00:00:00",
          "2019-12-01T00:00:00",
          "2020-01-01T00:00:00",
          "2020-02-01T00:00:00",
          "2020-03-01T00:00:00",
          "2020-04-01T00:00:00",
          "2020-05-01T00:00:00",
          "2020-06-01T00:00:00",
          "2020-07-01T00:00:00",
          "2020-08-01T00:00:00",
          "2020-09-01T00:00:00",
          "2020-10-01T00:00:00",
          "2020-11-01T00:00:00",
          "2020-12-01T00:00:00",
          "2021-01-01T00:00:00"
         ],
         "y": [
          113.47128527304268,
          105.4107044205635,
          95.80207663395397,
          97.10720262116784,
          107.720006661767,
          115.22980130388494,
          116.02474794899497,
          105.20989549467195,
          97.71730435326671,
          99.69992219211191,
          116.36308846445141,
          122.62006085287877,
          114.16508315049771,
          106.14724113125536,
          96.58956023645453,
          97.88776618118742,
          108.44429898397291,
          115.91427517296367,
          116.70500684985747,
          105.94749693498481,
          98.49463303025951,
          100.46673862752591,
          117.0415534153329,
          123.26535006811906,
          114.85520237100144,
          106.87987257504064,
          97.37286844130324,
          98.6641910350228,
          109.16475096150143,
          116.5951198228731,
          117.38165888016637,
          106.68118746297887,
          99.2678401530735,
          101.22948924679635,
          117.71642100754711,
          123.90721782916583
         ]
        }
       ],
       "layout": {
        "legend": {
         "title": {
          "text": "Legend"
         }
        },
        "template": {
         "data": {
          "bar": [
           {
            "error_x": {
             "color": "#2a3f5f"
            },
            "error_y": {
             "color": "#2a3f5f"
            },
            "marker": {
             "line": {
              "color": "#E5ECF6",
              "width": 0.5
             },
             "pattern": {
              "fillmode": "overlay",
              "size": 10,
              "solidity": 0.2
             }
            },
            "type": "bar"
           }
          ],
          "barpolar": [
           {
            "marker": {
             "line": {
              "color": "#E5ECF6",
              "width": 0.5
             },
             "pattern": {
              "fillmode": "overlay",
              "size": 10,
              "solidity": 0.2
             }
            },
            "type": "barpolar"
           }
          ],
          "carpet": [
           {
            "aaxis": {
             "endlinecolor": "#2a3f5f",
             "gridcolor": "white",
             "linecolor": "white",
             "minorgridcolor": "white",
             "startlinecolor": "#2a3f5f"
            },
            "baxis": {
             "endlinecolor": "#2a3f5f",
             "gridcolor": "white",
             "linecolor": "white",
             "minorgridcolor": "white",
             "startlinecolor": "#2a3f5f"
            },
            "type": "carpet"
           }
          ],
          "choropleth": [
           {
            "colorbar": {
             "outlinewidth": 0,
             "ticks": ""
            },
            "type": "choropleth"
           }
          ],
          "contour": [
           {
            "colorbar": {
             "outlinewidth": 0,
             "ticks": ""
            },
            "colorscale": [
             [
              0,
              "#0d0887"
             ],
             [
              0.1111111111111111,
              "#46039f"
             ],
             [
              0.2222222222222222,
              "#7201a8"
             ],
             [
              0.3333333333333333,
              "#9c179e"
             ],
             [
              0.4444444444444444,
              "#bd3786"
             ],
             [
              0.5555555555555556,
              "#d8576b"
             ],
             [
              0.6666666666666666,
              "#ed7953"
             ],
             [
              0.7777777777777778,
              "#fb9f3a"
             ],
             [
              0.8888888888888888,
              "#fdca26"
             ],
             [
              1,
              "#f0f921"
             ]
            ],
            "type": "contour"
           }
          ],
          "contourcarpet": [
           {
            "colorbar": {
             "outlinewidth": 0,
             "ticks": ""
            },
            "type": "contourcarpet"
           }
          ],
          "heatmap": [
           {
            "colorbar": {
             "outlinewidth": 0,
             "ticks": ""
            },
            "colorscale": [
             [
              0,
              "#0d0887"
             ],
             [
              0.1111111111111111,
              "#46039f"
             ],
             [
              0.2222222222222222,
              "#7201a8"
             ],
             [
              0.3333333333333333,
              "#9c179e"
             ],
             [
              0.4444444444444444,
              "#bd3786"
             ],
             [
              0.5555555555555556,
              "#d8576b"
             ],
             [
              0.6666666666666666,
              "#ed7953"
             ],
             [
              0.7777777777777778,
              "#fb9f3a"
             ],
             [
              0.8888888888888888,
              "#fdca26"
             ],
             [
              1,
              "#f0f921"
             ]
            ],
            "type": "heatmap"
           }
          ],
          "heatmapgl": [
           {
            "colorbar": {
             "outlinewidth": 0,
             "ticks": ""
            },
            "colorscale": [
             [
              0,
              "#0d0887"
             ],
             [
              0.1111111111111111,
              "#46039f"
             ],
             [
              0.2222222222222222,
              "#7201a8"
             ],
             [
              0.3333333333333333,
              "#9c179e"
             ],
             [
              0.4444444444444444,
              "#bd3786"
             ],
             [
              0.5555555555555556,
              "#d8576b"
             ],
             [
              0.6666666666666666,
              "#ed7953"
             ],
             [
              0.7777777777777778,
              "#fb9f3a"
             ],
             [
              0.8888888888888888,
              "#fdca26"
             ],
             [
              1,
              "#f0f921"
             ]
            ],
            "type": "heatmapgl"
           }
          ],
          "histogram": [
           {
            "marker": {
             "pattern": {
              "fillmode": "overlay",
              "size": 10,
              "solidity": 0.2
             }
            },
            "type": "histogram"
           }
          ],
          "histogram2d": [
           {
            "colorbar": {
             "outlinewidth": 0,
             "ticks": ""
            },
            "colorscale": [
             [
              0,
              "#0d0887"
             ],
             [
              0.1111111111111111,
              "#46039f"
             ],
             [
              0.2222222222222222,
              "#7201a8"
             ],
             [
              0.3333333333333333,
              "#9c179e"
             ],
             [
              0.4444444444444444,
              "#bd3786"
             ],
             [
              0.5555555555555556,
              "#d8576b"
             ],
             [
              0.6666666666666666,
              "#ed7953"
             ],
             [
              0.7777777777777778,
              "#fb9f3a"
             ],
             [
              0.8888888888888888,
              "#fdca26"
             ],
             [
              1,
              "#f0f921"
             ]
            ],
            "type": "histogram2d"
           }
          ],
          "histogram2dcontour": [
           {
            "colorbar": {
             "outlinewidth": 0,
             "ticks": ""
            },
            "colorscale": [
             [
              0,
              "#0d0887"
             ],
             [
              0.1111111111111111,
              "#46039f"
             ],
             [
              0.2222222222222222,
              "#7201a8"
             ],
             [
              0.3333333333333333,
              "#9c179e"
             ],
             [
              0.4444444444444444,
              "#bd3786"
             ],
             [
              0.5555555555555556,
              "#d8576b"
             ],
             [
              0.6666666666666666,
              "#ed7953"
             ],
             [
              0.7777777777777778,
              "#fb9f3a"
             ],
             [
              0.8888888888888888,
              "#fdca26"
             ],
             [
              1,
              "#f0f921"
             ]
            ],
            "type": "histogram2dcontour"
           }
          ],
          "mesh3d": [
           {
            "colorbar": {
             "outlinewidth": 0,
             "ticks": ""
            },
            "type": "mesh3d"
           }
          ],
          "parcoords": [
           {
            "line": {
             "colorbar": {
              "outlinewidth": 0,
              "ticks": ""
             }
            },
            "type": "parcoords"
           }
          ],
          "pie": [
           {
            "automargin": true,
            "type": "pie"
           }
          ],
          "scatter": [
           {
            "fillpattern": {
             "fillmode": "overlay",
             "size": 10,
             "solidity": 0.2
            },
            "type": "scatter"
           }
          ],
          "scatter3d": [
           {
            "line": {
             "colorbar": {
              "outlinewidth": 0,
              "ticks": ""
             }
            },
            "marker": {
             "colorbar": {
              "outlinewidth": 0,
              "ticks": ""
             }
            },
            "type": "scatter3d"
           }
          ],
          "scattercarpet": [
           {
            "marker": {
             "colorbar": {
              "outlinewidth": 0,
              "ticks": ""
             }
            },
            "type": "scattercarpet"
           }
          ],
          "scattergeo": [
           {
            "marker": {
             "colorbar": {
              "outlinewidth": 0,
              "ticks": ""
             }
            },
            "type": "scattergeo"
           }
          ],
          "scattergl": [
           {
            "marker": {
             "colorbar": {
              "outlinewidth": 0,
              "ticks": ""
             }
            },
            "type": "scattergl"
           }
          ],
          "scattermapbox": [
           {
            "marker": {
             "colorbar": {
              "outlinewidth": 0,
              "ticks": ""
             }
            },
            "type": "scattermapbox"
           }
          ],
          "scatterpolar": [
           {
            "marker": {
             "colorbar": {
              "outlinewidth": 0,
              "ticks": ""
             }
            },
            "type": "scatterpolar"
           }
          ],
          "scatterpolargl": [
           {
            "marker": {
             "colorbar": {
              "outlinewidth": 0,
              "ticks": ""
             }
            },
            "type": "scatterpolargl"
           }
          ],
          "scatterternary": [
           {
            "marker": {
             "colorbar": {
              "outlinewidth": 0,
              "ticks": ""
             }
            },
            "type": "scatterternary"
           }
          ],
          "surface": [
           {
            "colorbar": {
             "outlinewidth": 0,
             "ticks": ""
            },
            "colorscale": [
             [
              0,
              "#0d0887"
             ],
             [
              0.1111111111111111,
              "#46039f"
             ],
             [
              0.2222222222222222,
              "#7201a8"
             ],
             [
              0.3333333333333333,
              "#9c179e"
             ],
             [
              0.4444444444444444,
              "#bd3786"
             ],
             [
              0.5555555555555556,
              "#d8576b"
             ],
             [
              0.6666666666666666,
              "#ed7953"
             ],
             [
              0.7777777777777778,
              "#fb9f3a"
             ],
             [
              0.8888888888888888,
              "#fdca26"
             ],
             [
              1,
              "#f0f921"
             ]
            ],
            "type": "surface"
           }
          ],
          "table": [
           {
            "cells": {
             "fill": {
              "color": "#EBF0F8"
             },
             "line": {
              "color": "white"
             }
            },
            "header": {
             "fill": {
              "color": "#C8D4E3"
             },
             "line": {
              "color": "white"
             }
            },
            "type": "table"
           }
          ]
         },
         "layout": {
          "annotationdefaults": {
           "arrowcolor": "#2a3f5f",
           "arrowhead": 0,
           "arrowwidth": 1
          },
          "autotypenumbers": "strict",
          "coloraxis": {
           "colorbar": {
            "outlinewidth": 0,
            "ticks": ""
           }
          },
          "colorscale": {
           "diverging": [
            [
             0,
             "#8e0152"
            ],
            [
             0.1,
             "#c51b7d"
            ],
            [
             0.2,
             "#de77ae"
            ],
            [
             0.3,
             "#f1b6da"
            ],
            [
             0.4,
             "#fde0ef"
            ],
            [
             0.5,
             "#f7f7f7"
            ],
            [
             0.6,
             "#e6f5d0"
            ],
            [
             0.7,
             "#b8e186"
            ],
            [
             0.8,
             "#7fbc41"
            ],
            [
             0.9,
             "#4d9221"
            ],
            [
             1,
             "#276419"
            ]
           ],
           "sequential": [
            [
             0,
             "#0d0887"
            ],
            [
             0.1111111111111111,
             "#46039f"
            ],
            [
             0.2222222222222222,
             "#7201a8"
            ],
            [
             0.3333333333333333,
             "#9c179e"
            ],
            [
             0.4444444444444444,
             "#bd3786"
            ],
            [
             0.5555555555555556,
             "#d8576b"
            ],
            [
             0.6666666666666666,
             "#ed7953"
            ],
            [
             0.7777777777777778,
             "#fb9f3a"
            ],
            [
             0.8888888888888888,
             "#fdca26"
            ],
            [
             1,
             "#f0f921"
            ]
           ],
           "sequentialminus": [
            [
             0,
             "#0d0887"
            ],
            [
             0.1111111111111111,
             "#46039f"
            ],
            [
             0.2222222222222222,
             "#7201a8"
            ],
            [
             0.3333333333333333,
             "#9c179e"
            ],
            [
             0.4444444444444444,
             "#bd3786"
            ],
            [
             0.5555555555555556,
             "#d8576b"
            ],
            [
             0.6666666666666666,
             "#ed7953"
            ],
            [
             0.7777777777777778,
             "#fb9f3a"
            ],
            [
             0.8888888888888888,
             "#fdca26"
            ],
            [
             1,
             "#f0f921"
            ]
           ]
          },
          "colorway": [
           "#636efa",
           "#EF553B",
           "#00cc96",
           "#ab63fa",
           "#FFA15A",
           "#19d3f3",
           "#FF6692",
           "#B6E880",
           "#FF97FF",
           "#FECB52"
          ],
          "font": {
           "color": "#2a3f5f"
          },
          "geo": {
           "bgcolor": "white",
           "lakecolor": "white",
           "landcolor": "#E5ECF6",
           "showlakes": true,
           "showland": true,
           "subunitcolor": "white"
          },
          "hoverlabel": {
           "align": "left"
          },
          "hovermode": "closest",
          "mapbox": {
           "style": "light"
          },
          "paper_bgcolor": "white",
          "plot_bgcolor": "#E5ECF6",
          "polar": {
           "angularaxis": {
            "gridcolor": "white",
            "linecolor": "white",
            "ticks": ""
           },
           "bgcolor": "#E5ECF6",
           "radialaxis": {
            "gridcolor": "white",
            "linecolor": "white",
            "ticks": ""
           }
          },
          "scene": {
           "xaxis": {
            "backgroundcolor": "#E5ECF6",
            "gridcolor": "white",
            "gridwidth": 2,
            "linecolor": "white",
            "showbackground": true,
            "ticks": "",
            "zerolinecolor": "white"
           },
           "yaxis": {
            "backgroundcolor": "#E5ECF6",
            "gridcolor": "white",
            "gridwidth": 2,
            "linecolor": "white",
            "showbackground": true,
            "ticks": "",
            "zerolinecolor": "white"
           },
           "zaxis": {
            "backgroundcolor": "#E5ECF6",
            "gridcolor": "white",
            "gridwidth": 2,
            "linecolor": "white",
            "showbackground": true,
            "ticks": "",
            "zerolinecolor": "white"
           }
          },
          "shapedefaults": {
           "line": {
            "color": "#2a3f5f"
           }
          },
          "ternary": {
           "aaxis": {
            "gridcolor": "white",
            "linecolor": "white",
            "ticks": ""
           },
           "baxis": {
            "gridcolor": "white",
            "linecolor": "white",
            "ticks": ""
           },
           "bgcolor": "#E5ECF6",
           "caxis": {
            "gridcolor": "white",
            "linecolor": "white",
            "ticks": ""
           }
          },
          "title": {
           "x": 0.05
          },
          "xaxis": {
           "automargin": true,
           "gridcolor": "white",
           "linecolor": "white",
           "ticks": "",
           "title": {
            "standoff": 15
           },
           "zerolinecolor": "white",
           "zerolinewidth": 2
          },
          "yaxis": {
           "automargin": true,
           "gridcolor": "white",
           "linecolor": "white",
           "ticks": "",
           "title": {
            "standoff": 15
           },
           "zerolinecolor": "white",
           "zerolinewidth": 2
          }
         }
        },
        "title": {
         "text": "Methods Comparison"
        },
        "xaxis": {
         "title": {
          "text": "Date"
         }
        },
        "yaxis": {
         "title": {
          "text": "Value"
         }
        }
       }
      }
     },
     "metadata": {},
     "output_type": "display_data"
    }
   ],
   "source": [
    "\n",
    "# initialize figure\n",
    "fig = go.Figure()\n",
    "\n",
    "# add traces for each series\n",
    "fig.add_trace(go.Scatter(x=df.index, y=df['Production'], mode='lines', name='Production'))\n",
    "fig.add_trace(go.Scatter(x=result.index, y=result['Forecast'], mode='lines', name='LSTM Forecast'))\n",
    "fig.add_trace(go.Scatter(x=result.index, y=result['SARIMAX(order=(1, 1, 2), seasonal_order=(1, 0, 1, 12)) Forecast'], mode='lines', name='SARIMAX Forecast'))\n",
    "\n",
    "# create layout\n",
    "fig.update_layout(\n",
    "    title='Methods Comparison',\n",
    "    xaxis_title='Date',\n",
    "    yaxis_title='Value',\n",
    "    legend_title='Legend'\n",
    ")\n",
    "\n",
    "# show the plot\n",
    "fig.show()"
   ]
  },
  {
   "cell_type": "code",
   "execution_count": null,
   "id": "a6303a00",
   "metadata": {},
   "outputs": [],
   "source": []
  },
  {
   "cell_type": "code",
   "execution_count": null,
   "id": "d6b24916",
   "metadata": {},
   "outputs": [],
   "source": []
  },
  {
   "cell_type": "code",
   "execution_count": null,
   "id": "7fba5d98",
   "metadata": {},
   "outputs": [],
   "source": []
  }
 ],
 "metadata": {
  "kernelspec": {
   "display_name": "Python 3 (ipykernel)",
   "language": "python",
   "name": "python3"
  },
  "language_info": {
   "codemirror_mode": {
    "name": "ipython",
    "version": 3
   },
   "file_extension": ".py",
   "mimetype": "text/x-python",
   "name": "python",
   "nbconvert_exporter": "python",
   "pygments_lexer": "ipython3",
   "version": "3.11.3"
  }
 },
 "nbformat": 4,
 "nbformat_minor": 5
}
